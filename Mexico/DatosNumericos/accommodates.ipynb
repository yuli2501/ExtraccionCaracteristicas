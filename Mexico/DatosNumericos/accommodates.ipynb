{
 "cells": [
  {
   "cell_type": "code",
   "execution_count": 1,
   "metadata": {},
   "outputs": [],
   "source": [
    "import pandas as pd\n",
    "import numpy as np\n",
    "import matplotlib.pyplot as plt\n",
    "from funpymodeling.exploratory import freq_tbl"
   ]
  },
  {
   "cell_type": "code",
   "execution_count": 47,
   "metadata": {},
   "outputs": [],
   "source": [
    "# Carga desde un archivo .xlsx sin indice\n",
    "Mexico = pd.read_csv('Mexico.csv')"
   ]
  },
  {
   "cell_type": "code",
   "execution_count": 48,
   "metadata": {},
   "outputs": [
    {
     "name": "stdout",
     "output_type": "stream",
     "text": [
      "<class 'pandas.core.frame.DataFrame'>\n",
      "RangeIndex: 26582 entries, 0 to 26581\n",
      "Data columns (total 50 columns):\n",
      " #   Column                                        Non-Null Count  Dtype  \n",
      "---  ------                                        --------------  -----  \n",
      " 0   id                                            26582 non-null  int64  \n",
      " 1   last_scraped                                  26582 non-null  object \n",
      " 2   name                                          26582 non-null  object \n",
      " 3   host_id                                       26582 non-null  int64  \n",
      " 4   host_name                                     26582 non-null  object \n",
      " 5   host_since                                    26582 non-null  object \n",
      " 6   host_response_time                            26582 non-null  object \n",
      " 7   host_is_superhost                             26582 non-null  object \n",
      " 8   host_identity_verified                        26582 non-null  object \n",
      " 9   neighbourhood                                 26582 non-null  object \n",
      " 10  neighbourhood_cleansed                        26582 non-null  object \n",
      " 11  latitude                                      26582 non-null  float64\n",
      " 12  longitude                                     26582 non-null  float64\n",
      " 13  property_type                                 26582 non-null  object \n",
      " 14  room_type                                     26582 non-null  object \n",
      " 15  amenities                                     26582 non-null  object \n",
      " 16  calendar_last_scraped                         26582 non-null  object \n",
      " 17  has_availability                              26582 non-null  object \n",
      " 18  first_review                                  26582 non-null  object \n",
      " 19  last_review                                   26582 non-null  object \n",
      " 20  license                                       26582 non-null  object \n",
      " 21  instant_bookable                              26582 non-null  object \n",
      " 22  host_response_rate                            26582 non-null  float64\n",
      " 23  host_acceptance_rate                          26582 non-null  float64\n",
      " 24  host_listings_count                           26582 non-null  float64\n",
      " 25  host_total_listings_count                     26582 non-null  float64\n",
      " 26  accommodates                                  26582 non-null  float64\n",
      " 27  bathrooms                                     26582 non-null  float64\n",
      " 28  bedrooms                                      26582 non-null  float64\n",
      " 29  beds                                          26582 non-null  float64\n",
      " 30  price                                         26582 non-null  float64\n",
      " 31  minimum_nights                                26582 non-null  float64\n",
      " 32  maximum_nights                                26582 non-null  float64\n",
      " 33  minimum_nights_avg_ntm                        26582 non-null  float64\n",
      " 34  maximum_nights_avg_ntm                        26582 non-null  float64\n",
      " 35  availability_30                               26582 non-null  int64  \n",
      " 36  availability_90                               26582 non-null  int64  \n",
      " 37  availability_365                              26582 non-null  int64  \n",
      " 38  number_of_reviews                             26582 non-null  float64\n",
      " 39  review_scores_rating                          26582 non-null  float64\n",
      " 40  review_scores_accuracy                        26582 non-null  float64\n",
      " 41  review_scores_cleanliness                     26582 non-null  float64\n",
      " 42  review_scores_checkin                         26582 non-null  float64\n",
      " 43  review_scores_communication                   26582 non-null  float64\n",
      " 44  review_scores_location                        26582 non-null  float64\n",
      " 45  review_scores_value                           26582 non-null  float64\n",
      " 46  calculated_host_listings_count                26582 non-null  float64\n",
      " 47  calculated_host_listings_count_entire_homes   26582 non-null  float64\n",
      " 48  calculated_host_listings_count_private_rooms  26582 non-null  float64\n",
      " 49  calculated_host_listings_count_shared_rooms   26582 non-null  float64\n",
      "dtypes: float64(27), int64(5), object(18)\n",
      "memory usage: 10.1+ MB\n"
     ]
    }
   ],
   "source": [
    "# Verificamos información del dataframe\n",
    "Mexico.info()"
   ]
  },
  {
   "cell_type": "markdown",
   "metadata": {},
   "source": [
    "DETERMINACIÓN DE CLASES PARA DATOS AGRUPADOS "
   ]
  },
  {
   "cell_type": "code",
   "execution_count": 49,
   "metadata": {},
   "outputs": [
    {
     "name": "stdout",
     "output_type": "stream",
     "text": [
      "<class 'pandas.core.series.Series'>\n",
      "RangeIndex: 26582 entries, 0 to 26581\n",
      "Series name: accommodates\n",
      "Non-Null Count  Dtype  \n",
      "--------------  -----  \n",
      "26582 non-null  float64\n",
      "dtypes: float64(1)\n",
      "memory usage: 207.8 KB\n"
     ]
    }
   ],
   "source": [
    "#Calculamos el numero total de la población \"n\"\n",
    "\n",
    "Mexico['accommodates'].info()"
   ]
  },
  {
   "cell_type": "code",
   "execution_count": 50,
   "metadata": {},
   "outputs": [
    {
     "data": {
      "text/plain": [
       "[1.0, 10.0]"
      ]
     },
     "execution_count": 50,
     "metadata": {},
     "output_type": "execute_result"
    }
   ],
   "source": [
    "# Obtenemos el limite superior y el límite inferios de la columna objetivo\n",
    "Max = Mexico['accommodates'].max()\n",
    "Min = Mexico['accommodates'].min()\n",
    "Limites = [Min, Max]\n",
    "Limites"
   ]
  },
  {
   "cell_type": "code",
   "execution_count": 51,
   "metadata": {},
   "outputs": [
    {
     "data": {
      "text/plain": [
       "9.0"
      ]
     },
     "execution_count": 51,
     "metadata": {},
     "output_type": "execute_result"
    }
   ],
   "source": [
    "# Calculamos el rango R\n",
    "R = Max - Min\n",
    "R"
   ]
  },
  {
   "cell_type": "code",
   "execution_count": 52,
   "metadata": {},
   "outputs": [
    {
     "data": {
      "text/plain": [
       "15.689631010177528"
      ]
     },
     "execution_count": 52,
     "metadata": {},
     "output_type": "execute_result"
    }
   ],
   "source": [
    "# Calculamos el número de intervalos de clase \"ni\", aplicando la regla de Sturges\n",
    "n = 26582\n",
    "\n",
    "ni = 1 + 3.32 * np.log10(n)\n",
    "ni"
   ]
  },
  {
   "cell_type": "code",
   "execution_count": 53,
   "metadata": {},
   "outputs": [
    {
     "data": {
      "text/plain": [
       "0.5736272570184661"
      ]
     },
     "execution_count": 53,
     "metadata": {},
     "output_type": "execute_result"
    }
   ],
   "source": [
    "# Calculamos el ancho del intervalo \"i\"\n",
    "i = R / ni\n",
    "i"
   ]
  },
  {
   "cell_type": "markdown",
   "metadata": {},
   "source": [
    "CREACIÓN DE CATEGORÍAS A PARTIR DE CLASES"
   ]
  },
  {
   "cell_type": "code",
   "execution_count": 54,
   "metadata": {},
   "outputs": [
    {
     "data": {
      "text/plain": [
       "array([ 1. ,  1.6,  2.2,  2.8,  3.4,  4. ,  4.6,  5.2,  5.8,  6.4,  7. ,\n",
       "        7.6,  8.2,  8.8,  9.4, 10. ])"
      ]
     },
     "execution_count": 54,
     "metadata": {},
     "output_type": "execute_result"
    }
   ],
   "source": [
    "# Categorización de variables\n",
    "intervalos = np.linspace (1, 10, 16)\n",
    "intervalos"
   ]
  },
  {
   "cell_type": "code",
   "execution_count": 55,
   "metadata": {},
   "outputs": [],
   "source": [
    "# Creamos las categorías\n",
    "categorias = [ \n",
    "\"Individual\", \n",
    "\"Pareja\", \n",
    "\"Pareja estándar\",\n",
    "\"Grupo\", \n",
    "\"Grupo pequeño\", \n",
    "\"Familiar\",\n",
    "\"Familiar grande\",\n",
    "\"Grupo mediano\",\n",
    "\"Grupo grande\",\n",
    "\"Grupo extra grande\",\n",
    "\"Alojamiento amplio\",\n",
    "\"Alojamiento grande\",\n",
    "\"Alojamiento muy grande\",\n",
    "\"Alojamiento extendido\",\n",
    "\"Alojamiento máximo\" ]"
   ]
  },
  {
   "cell_type": "code",
   "execution_count": null,
   "metadata": {},
   "outputs": [
    {
     "data": {
      "text/plain": [
       "0               Pareja\n",
       "1                Grupo\n",
       "2        Grupo pequeño\n",
       "3               Pareja\n",
       "4               Pareja\n",
       "             ...      \n",
       "26577    Grupo pequeño\n",
       "26578           Pareja\n",
       "26579           Pareja\n",
       "26580           Pareja\n",
       "26581           Pareja\n",
       "Name: accommodates, Length: 26582, dtype: category\n",
       "Categories (15, object): ['Individual' < 'Pareja' < 'Pareja estándar' < 'Grupo' ... 'Alojamiento grande' < 'Alojamiento muy grande' < 'Alojamiento extendido' < 'Alojamiento máximo']"
      ]
     },
     "execution_count": 56,
     "metadata": {},
     "output_type": "execute_result"
    }
   ],
   "source": [
    "# Creamos las ctegorias en la columna numerica\n",
    "Mexico ['accommodates'] = pd.cut ( x = Mexico  ['accommodates'], bins = intervalos, labels = categorias )\n",
    "Mexico ['accommodates']"
   ]
  },
  {
   "cell_type": "code",
   "execution_count": 57,
   "metadata": {},
   "outputs": [
    {
     "data": {
      "text/html": [
       "<div>\n",
       "<style scoped>\n",
       "    .dataframe tbody tr th:only-of-type {\n",
       "        vertical-align: middle;\n",
       "    }\n",
       "\n",
       "    .dataframe tbody tr th {\n",
       "        vertical-align: top;\n",
       "    }\n",
       "\n",
       "    .dataframe thead th {\n",
       "        text-align: right;\n",
       "    }\n",
       "</style>\n",
       "<table border=\"1\" class=\"dataframe\">\n",
       "  <thead>\n",
       "    <tr style=\"text-align: right;\">\n",
       "      <th></th>\n",
       "      <th>accommodates</th>\n",
       "      <th>frequency</th>\n",
       "      <th>percentage</th>\n",
       "      <th>cumulative_perc</th>\n",
       "    </tr>\n",
       "  </thead>\n",
       "  <tbody>\n",
       "    <tr>\n",
       "      <th>0</th>\n",
       "      <td>Pareja</td>\n",
       "      <td>10620</td>\n",
       "      <td>0.399518</td>\n",
       "      <td>0.450975</td>\n",
       "    </tr>\n",
       "    <tr>\n",
       "      <th>1</th>\n",
       "      <td>Grupo pequeño</td>\n",
       "      <td>5690</td>\n",
       "      <td>0.214055</td>\n",
       "      <td>0.692598</td>\n",
       "    </tr>\n",
       "    <tr>\n",
       "      <th>2</th>\n",
       "      <td>Grupo</td>\n",
       "      <td>2927</td>\n",
       "      <td>0.110112</td>\n",
       "      <td>0.816892</td>\n",
       "    </tr>\n",
       "    <tr>\n",
       "      <th>3</th>\n",
       "      <td>Grupo grande</td>\n",
       "      <td>1800</td>\n",
       "      <td>0.067715</td>\n",
       "      <td>0.893329</td>\n",
       "    </tr>\n",
       "    <tr>\n",
       "      <th>4</th>\n",
       "      <td>Familiar grande</td>\n",
       "      <td>1375</td>\n",
       "      <td>0.051727</td>\n",
       "      <td>0.951718</td>\n",
       "    </tr>\n",
       "    <tr>\n",
       "      <th>5</th>\n",
       "      <td>Alojamiento grande</td>\n",
       "      <td>516</td>\n",
       "      <td>0.019412</td>\n",
       "      <td>0.973629</td>\n",
       "    </tr>\n",
       "    <tr>\n",
       "      <th>6</th>\n",
       "      <td>Grupo extra grande</td>\n",
       "      <td>311</td>\n",
       "      <td>0.011700</td>\n",
       "      <td>0.986836</td>\n",
       "    </tr>\n",
       "    <tr>\n",
       "      <th>7</th>\n",
       "      <td>Alojamiento máximo</td>\n",
       "      <td>216</td>\n",
       "      <td>0.008126</td>\n",
       "      <td>0.996008</td>\n",
       "    </tr>\n",
       "    <tr>\n",
       "      <th>8</th>\n",
       "      <td>Alojamiento extendido</td>\n",
       "      <td>94</td>\n",
       "      <td>0.003536</td>\n",
       "      <td>1.000000</td>\n",
       "    </tr>\n",
       "    <tr>\n",
       "      <th>9</th>\n",
       "      <td>Individual</td>\n",
       "      <td>0</td>\n",
       "      <td>0.000000</td>\n",
       "      <td>1.000000</td>\n",
       "    </tr>\n",
       "    <tr>\n",
       "      <th>10</th>\n",
       "      <td>Pareja estándar</td>\n",
       "      <td>0</td>\n",
       "      <td>0.000000</td>\n",
       "      <td>1.000000</td>\n",
       "    </tr>\n",
       "    <tr>\n",
       "      <th>11</th>\n",
       "      <td>Familiar</td>\n",
       "      <td>0</td>\n",
       "      <td>0.000000</td>\n",
       "      <td>1.000000</td>\n",
       "    </tr>\n",
       "    <tr>\n",
       "      <th>12</th>\n",
       "      <td>Grupo mediano</td>\n",
       "      <td>0</td>\n",
       "      <td>0.000000</td>\n",
       "      <td>1.000000</td>\n",
       "    </tr>\n",
       "    <tr>\n",
       "      <th>13</th>\n",
       "      <td>Alojamiento amplio</td>\n",
       "      <td>0</td>\n",
       "      <td>0.000000</td>\n",
       "      <td>1.000000</td>\n",
       "    </tr>\n",
       "    <tr>\n",
       "      <th>14</th>\n",
       "      <td>Alojamiento muy grande</td>\n",
       "      <td>0</td>\n",
       "      <td>0.000000</td>\n",
       "      <td>1.000000</td>\n",
       "    </tr>\n",
       "  </tbody>\n",
       "</table>\n",
       "</div>"
      ],
      "text/plain": [
       "              accommodates  frequency  percentage  cumulative_perc\n",
       "0                   Pareja      10620    0.399518         0.450975\n",
       "1            Grupo pequeño       5690    0.214055         0.692598\n",
       "2                    Grupo       2927    0.110112         0.816892\n",
       "3             Grupo grande       1800    0.067715         0.893329\n",
       "4          Familiar grande       1375    0.051727         0.951718\n",
       "5       Alojamiento grande        516    0.019412         0.973629\n",
       "6       Grupo extra grande        311    0.011700         0.986836\n",
       "7       Alojamiento máximo        216    0.008126         0.996008\n",
       "8    Alojamiento extendido         94    0.003536         1.000000\n",
       "9               Individual          0    0.000000         1.000000\n",
       "10         Pareja estándar          0    0.000000         1.000000\n",
       "11                Familiar          0    0.000000         1.000000\n",
       "12           Grupo mediano          0    0.000000         1.000000\n",
       "13      Alojamiento amplio          0    0.000000         1.000000\n",
       "14  Alojamiento muy grande          0    0.000000         1.000000"
      ]
     },
     "execution_count": 57,
     "metadata": {},
     "output_type": "execute_result"
    }
   ],
   "source": [
    "table1 = freq_tbl(Mexico['accommodates'])\n",
    "table1"
   ]
  },
  {
   "cell_type": "code",
   "execution_count": 58,
   "metadata": {},
   "outputs": [
    {
     "data": {
      "text/html": [
       "<div>\n",
       "<style scoped>\n",
       "    .dataframe tbody tr th:only-of-type {\n",
       "        vertical-align: middle;\n",
       "    }\n",
       "\n",
       "    .dataframe tbody tr th {\n",
       "        vertical-align: top;\n",
       "    }\n",
       "\n",
       "    .dataframe thead th {\n",
       "        text-align: right;\n",
       "    }\n",
       "</style>\n",
       "<table border=\"1\" class=\"dataframe\">\n",
       "  <thead>\n",
       "    <tr style=\"text-align: right;\">\n",
       "      <th></th>\n",
       "      <th>accommodates</th>\n",
       "      <th>frequency</th>\n",
       "    </tr>\n",
       "  </thead>\n",
       "  <tbody>\n",
       "    <tr>\n",
       "      <th>0</th>\n",
       "      <td>Pareja</td>\n",
       "      <td>10620</td>\n",
       "    </tr>\n",
       "    <tr>\n",
       "      <th>1</th>\n",
       "      <td>Grupo pequeño</td>\n",
       "      <td>5690</td>\n",
       "    </tr>\n",
       "    <tr>\n",
       "      <th>2</th>\n",
       "      <td>Grupo</td>\n",
       "      <td>2927</td>\n",
       "    </tr>\n",
       "    <tr>\n",
       "      <th>3</th>\n",
       "      <td>Grupo grande</td>\n",
       "      <td>1800</td>\n",
       "    </tr>\n",
       "    <tr>\n",
       "      <th>4</th>\n",
       "      <td>Familiar grande</td>\n",
       "      <td>1375</td>\n",
       "    </tr>\n",
       "    <tr>\n",
       "      <th>5</th>\n",
       "      <td>Alojamiento grande</td>\n",
       "      <td>516</td>\n",
       "    </tr>\n",
       "    <tr>\n",
       "      <th>6</th>\n",
       "      <td>Grupo extra grande</td>\n",
       "      <td>311</td>\n",
       "    </tr>\n",
       "    <tr>\n",
       "      <th>7</th>\n",
       "      <td>Alojamiento máximo</td>\n",
       "      <td>216</td>\n",
       "    </tr>\n",
       "    <tr>\n",
       "      <th>8</th>\n",
       "      <td>Alojamiento extendido</td>\n",
       "      <td>94</td>\n",
       "    </tr>\n",
       "    <tr>\n",
       "      <th>9</th>\n",
       "      <td>Individual</td>\n",
       "      <td>0</td>\n",
       "    </tr>\n",
       "    <tr>\n",
       "      <th>10</th>\n",
       "      <td>Pareja estándar</td>\n",
       "      <td>0</td>\n",
       "    </tr>\n",
       "    <tr>\n",
       "      <th>11</th>\n",
       "      <td>Familiar</td>\n",
       "      <td>0</td>\n",
       "    </tr>\n",
       "    <tr>\n",
       "      <th>12</th>\n",
       "      <td>Grupo mediano</td>\n",
       "      <td>0</td>\n",
       "    </tr>\n",
       "    <tr>\n",
       "      <th>13</th>\n",
       "      <td>Alojamiento amplio</td>\n",
       "      <td>0</td>\n",
       "    </tr>\n",
       "    <tr>\n",
       "      <th>14</th>\n",
       "      <td>Alojamiento muy grande</td>\n",
       "      <td>0</td>\n",
       "    </tr>\n",
       "  </tbody>\n",
       "</table>\n",
       "</div>"
      ],
      "text/plain": [
       "              accommodates  frequency\n",
       "0                   Pareja      10620\n",
       "1            Grupo pequeño       5690\n",
       "2                    Grupo       2927\n",
       "3             Grupo grande       1800\n",
       "4          Familiar grande       1375\n",
       "5       Alojamiento grande        516\n",
       "6       Grupo extra grande        311\n",
       "7       Alojamiento máximo        216\n",
       "8    Alojamiento extendido         94\n",
       "9               Individual          0\n",
       "10         Pareja estándar          0\n",
       "11                Familiar          0\n",
       "12           Grupo mediano          0\n",
       "13      Alojamiento amplio          0\n",
       "14  Alojamiento muy grande          0"
      ]
     },
     "execution_count": 58,
     "metadata": {},
     "output_type": "execute_result"
    }
   ],
   "source": [
    "# Elimino las columnas \"porcentage\" y \"cumulative_perc\" para trabajar con las frecuencias\n",
    "\n",
    "table2 = table1.drop(['percentage', 'cumulative_perc'], axis=1)\n",
    "table2"
   ]
  },
  {
   "cell_type": "code",
   "execution_count": 59,
   "metadata": {},
   "outputs": [
    {
     "data": {
      "text/html": [
       "<div>\n",
       "<style scoped>\n",
       "    .dataframe tbody tr th:only-of-type {\n",
       "        vertical-align: middle;\n",
       "    }\n",
       "\n",
       "    .dataframe tbody tr th {\n",
       "        vertical-align: top;\n",
       "    }\n",
       "\n",
       "    .dataframe thead th {\n",
       "        text-align: right;\n",
       "    }\n",
       "</style>\n",
       "<table border=\"1\" class=\"dataframe\">\n",
       "  <thead>\n",
       "    <tr style=\"text-align: right;\">\n",
       "      <th></th>\n",
       "      <th>accommodates</th>\n",
       "      <th>frequency</th>\n",
       "    </tr>\n",
       "  </thead>\n",
       "  <tbody>\n",
       "    <tr>\n",
       "      <th>0</th>\n",
       "      <td>Pareja</td>\n",
       "      <td>10620</td>\n",
       "    </tr>\n",
       "    <tr>\n",
       "      <th>1</th>\n",
       "      <td>Grupo pequeño</td>\n",
       "      <td>5690</td>\n",
       "    </tr>\n",
       "    <tr>\n",
       "      <th>2</th>\n",
       "      <td>Grupo</td>\n",
       "      <td>2927</td>\n",
       "    </tr>\n",
       "    <tr>\n",
       "      <th>3</th>\n",
       "      <td>Grupo grande</td>\n",
       "      <td>1800</td>\n",
       "    </tr>\n",
       "    <tr>\n",
       "      <th>4</th>\n",
       "      <td>Familiar grande</td>\n",
       "      <td>1375</td>\n",
       "    </tr>\n",
       "    <tr>\n",
       "      <th>5</th>\n",
       "      <td>Alojamiento grande</td>\n",
       "      <td>516</td>\n",
       "    </tr>\n",
       "    <tr>\n",
       "      <th>6</th>\n",
       "      <td>Grupo extra grande</td>\n",
       "      <td>311</td>\n",
       "    </tr>\n",
       "    <tr>\n",
       "      <th>7</th>\n",
       "      <td>Alojamiento máximo</td>\n",
       "      <td>216</td>\n",
       "    </tr>\n",
       "    <tr>\n",
       "      <th>8</th>\n",
       "      <td>Alojamiento extendido</td>\n",
       "      <td>94</td>\n",
       "    </tr>\n",
       "  </tbody>\n",
       "</table>\n",
       "</div>"
      ],
      "text/plain": [
       "            accommodates  frequency\n",
       "0                 Pareja      10620\n",
       "1          Grupo pequeño       5690\n",
       "2                  Grupo       2927\n",
       "3           Grupo grande       1800\n",
       "4        Familiar grande       1375\n",
       "5     Alojamiento grande        516\n",
       "6     Grupo extra grande        311\n",
       "7     Alojamiento máximo        216\n",
       "8  Alojamiento extendido         94"
      ]
     },
     "execution_count": 59,
     "metadata": {},
     "output_type": "execute_result"
    }
   ],
   "source": [
    "Filtro = table2[ table2['frequency'] >= 94]\n",
    "Filtro"
   ]
  },
  {
   "cell_type": "code",
   "execution_count": 60,
   "metadata": {},
   "outputs": [
    {
     "data": {
      "text/html": [
       "<div>\n",
       "<style scoped>\n",
       "    .dataframe tbody tr th:only-of-type {\n",
       "        vertical-align: middle;\n",
       "    }\n",
       "\n",
       "    .dataframe tbody tr th {\n",
       "        vertical-align: top;\n",
       "    }\n",
       "\n",
       "    .dataframe thead th {\n",
       "        text-align: right;\n",
       "    }\n",
       "</style>\n",
       "<table border=\"1\" class=\"dataframe\">\n",
       "  <thead>\n",
       "    <tr style=\"text-align: right;\">\n",
       "      <th></th>\n",
       "      <th>frequency</th>\n",
       "    </tr>\n",
       "    <tr>\n",
       "      <th>accommodates</th>\n",
       "      <th></th>\n",
       "    </tr>\n",
       "  </thead>\n",
       "  <tbody>\n",
       "    <tr>\n",
       "      <th>Pareja</th>\n",
       "      <td>10620</td>\n",
       "    </tr>\n",
       "    <tr>\n",
       "      <th>Grupo pequeño</th>\n",
       "      <td>5690</td>\n",
       "    </tr>\n",
       "    <tr>\n",
       "      <th>Grupo</th>\n",
       "      <td>2927</td>\n",
       "    </tr>\n",
       "    <tr>\n",
       "      <th>Grupo grande</th>\n",
       "      <td>1800</td>\n",
       "    </tr>\n",
       "    <tr>\n",
       "      <th>Familiar grande</th>\n",
       "      <td>1375</td>\n",
       "    </tr>\n",
       "    <tr>\n",
       "      <th>Alojamiento grande</th>\n",
       "      <td>516</td>\n",
       "    </tr>\n",
       "    <tr>\n",
       "      <th>Grupo extra grande</th>\n",
       "      <td>311</td>\n",
       "    </tr>\n",
       "    <tr>\n",
       "      <th>Alojamiento máximo</th>\n",
       "      <td>216</td>\n",
       "    </tr>\n",
       "    <tr>\n",
       "      <th>Alojamiento extendido</th>\n",
       "      <td>94</td>\n",
       "    </tr>\n",
       "  </tbody>\n",
       "</table>\n",
       "</div>"
      ],
      "text/plain": [
       "                       frequency\n",
       "accommodates                    \n",
       "Pareja                     10620\n",
       "Grupo pequeño               5690\n",
       "Grupo                       2927\n",
       "Grupo grande                1800\n",
       "Familiar grande             1375\n",
       "Alojamiento grande           516\n",
       "Grupo extra grande           311\n",
       "Alojamiento máximo           216\n",
       "Alojamiento extendido         94"
      ]
     },
     "execution_count": 60,
     "metadata": {},
     "output_type": "execute_result"
    }
   ],
   "source": [
    "# Ajusto el indice de mi data frame\n",
    "\n",
    "Filtro_index = Filtro.set_index('accommodates')\n",
    "Filtro_index"
   ]
  },
  {
   "cell_type": "code",
   "execution_count": 64,
   "metadata": {},
   "outputs": [
    {
     "data": {
      "text/plain": [
       "<Axes: xlabel='accommodates'>"
      ]
     },
     "execution_count": 64,
     "metadata": {},
     "output_type": "execute_result"
    },
    {
     "data": {
      "image/png": "[encoded data removed]",
      "text/plain": [
       "<Figure size 1800x500 with 1 Axes>"
      ]
     },
     "metadata": {},
     "output_type": "display_data"
    }
   ],
   "source": [
    "# Realizamos gráfico de area del dataframe filtrado\n",
    "Filtro_index.plot(kind = 'area', figsize = (18,5), alpha = 0.5)"
   ]
  }
 ],
 "metadata": {
  "kernelspec": {
   "display_name": "Python 3",
   "language": "python",
   "name": "python3"
  },
  "language_info": {
   "codemirror_mode": {
    "name": "ipython",
    "version": 3
   },
   "file_extension": ".py",
   "mimetype": "text/x-python",
   "name": "python",
   "nbconvert_exporter": "python",
   "pygments_lexer": "ipython3",
   "version": "3.13.1"
  }
 },
 "nbformat": 4,
 "nbformat_minor": 2
}
