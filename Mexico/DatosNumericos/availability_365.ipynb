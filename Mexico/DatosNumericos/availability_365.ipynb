{
 "cells": [
  {
   "cell_type": "code",
   "execution_count": 1,
   "metadata": {},
   "outputs": [],
   "source": [
    "import pandas as pd\n",
    "import numpy as np\n",
    "import matplotlib.pyplot as plt\n",
    "from funpymodeling.exploratory import freq_tbl"
   ]
  },
  {
   "cell_type": "code",
   "execution_count": 2,
   "metadata": {},
   "outputs": [],
   "source": [
    "# Carga desde un archivo .xlsx sin indice\n",
    "Mexico  = pd.read_csv('Mexico.csv')"
   ]
  },
  {
   "cell_type": "code",
   "execution_count": 3,
   "metadata": {},
   "outputs": [
    {
     "name": "stdout",
     "output_type": "stream",
     "text": [
      "<class 'pandas.core.frame.DataFrame'>\n",
      "RangeIndex: 26582 entries, 0 to 26581\n",
      "Data columns (total 50 columns):\n",
      " #   Column                                        Non-Null Count  Dtype  \n",
      "---  ------                                        --------------  -----  \n",
      " 0   id                                            26582 non-null  int64  \n",
      " 1   last_scraped                                  26582 non-null  object \n",
      " 2   name                                          26582 non-null  object \n",
      " 3   host_id                                       26582 non-null  int64  \n",
      " 4   host_name                                     26582 non-null  object \n",
      " 5   host_since                                    26582 non-null  object \n",
      " 6   host_response_time                            26582 non-null  object \n",
      " 7   host_is_superhost                             26582 non-null  object \n",
      " 8   host_identity_verified                        26582 non-null  object \n",
      " 9   neighbourhood                                 26582 non-null  object \n",
      " 10  neighbourhood_cleansed                        26582 non-null  object \n",
      " 11  latitude                                      26582 non-null  float64\n",
      " 12  longitude                                     26582 non-null  float64\n",
      " 13  property_type                                 26582 non-null  object \n",
      " 14  room_type                                     26582 non-null  object \n",
      " 15  amenities                                     26582 non-null  object \n",
      " 16  calendar_last_scraped                         26582 non-null  object \n",
      " 17  has_availability                              26582 non-null  object \n",
      " 18  first_review                                  26582 non-null  object \n",
      " 19  last_review                                   26582 non-null  object \n",
      " 20  license                                       26582 non-null  object \n",
      " 21  instant_bookable                              26582 non-null  object \n",
      " 22  host_response_rate                            26582 non-null  float64\n",
      " 23  host_acceptance_rate                          26582 non-null  float64\n",
      " 24  host_listings_count                           26582 non-null  float64\n",
      " 25  host_total_listings_count                     26582 non-null  float64\n",
      " 26  accommodates                                  26582 non-null  float64\n",
      " 27  bathrooms                                     26582 non-null  float64\n",
      " 28  bedrooms                                      26582 non-null  float64\n",
      " 29  beds                                          26582 non-null  float64\n",
      " 30  price                                         26582 non-null  float64\n",
      " 31  minimum_nights                                26582 non-null  float64\n",
      " 32  maximum_nights                                26582 non-null  float64\n",
      " 33  minimum_nights_avg_ntm                        26582 non-null  float64\n",
      " 34  maximum_nights_avg_ntm                        26582 non-null  float64\n",
      " 35  availability_30                               26582 non-null  int64  \n",
      " 36  availability_90                               26582 non-null  int64  \n",
      " 37  availability_365                              26582 non-null  int64  \n",
      " 38  number_of_reviews                             26582 non-null  float64\n",
      " 39  review_scores_rating                          26582 non-null  float64\n",
      " 40  review_scores_accuracy                        26582 non-null  float64\n",
      " 41  review_scores_cleanliness                     26582 non-null  float64\n",
      " 42  review_scores_checkin                         26582 non-null  float64\n",
      " 43  review_scores_communication                   26582 non-null  float64\n",
      " 44  review_scores_location                        26582 non-null  float64\n",
      " 45  review_scores_value                           26582 non-null  float64\n",
      " 46  calculated_host_listings_count                26582 non-null  float64\n",
      " 47  calculated_host_listings_count_entire_homes   26582 non-null  float64\n",
      " 48  calculated_host_listings_count_private_rooms  26582 non-null  float64\n",
      " 49  calculated_host_listings_count_shared_rooms   26582 non-null  float64\n",
      "dtypes: float64(27), int64(5), object(18)\n",
      "memory usage: 10.1+ MB\n"
     ]
    }
   ],
   "source": [
    "# Verificamos información del dataframe\n",
    "Mexico.info()"
   ]
  },
  {
   "cell_type": "markdown",
   "metadata": {},
   "source": [
    "DETERMINACIÓN DE CLASES PARA DATOS AGRUPADOS "
   ]
  },
  {
   "cell_type": "code",
   "execution_count": 4,
   "metadata": {},
   "outputs": [
    {
     "name": "stdout",
     "output_type": "stream",
     "text": [
      "<class 'pandas.core.series.Series'>\n",
      "RangeIndex: 26582 entries, 0 to 26581\n",
      "Series name: availability_365\n",
      "Non-Null Count  Dtype\n",
      "--------------  -----\n",
      "26582 non-null  int64\n",
      "dtypes: int64(1)\n",
      "memory usage: 207.8 KB\n"
     ]
    }
   ],
   "source": [
    "#Calculamos el numero total de la población \"n\"\n",
    "\n",
    "Mexico ['availability_365'].info()"
   ]
  },
  {
   "cell_type": "code",
   "execution_count": 5,
   "metadata": {},
   "outputs": [
    {
     "data": {
      "text/plain": [
       "[0, 365]"
      ]
     },
     "execution_count": 5,
     "metadata": {},
     "output_type": "execute_result"
    }
   ],
   "source": [
    "# Obtenemos el limite superior y el límite inferios de la columna objetivo\n",
    "Max = Mexico ['availability_365'].max()\n",
    "Min = Mexico ['availability_365'].min()\n",
    "Limites = [Min, Max]\n",
    "Limites"
   ]
  },
  {
   "cell_type": "code",
   "execution_count": 6,
   "metadata": {},
   "outputs": [
    {
     "data": {
      "text/plain": [
       "365"
      ]
     },
     "execution_count": 6,
     "metadata": {},
     "output_type": "execute_result"
    }
   ],
   "source": [
    "# Calculamos el rango R\n",
    "R = Max - Min\n",
    "R"
   ]
  },
  {
   "cell_type": "code",
   "execution_count": 7,
   "metadata": {},
   "outputs": [
    {
     "data": {
      "text/plain": [
       "15.689631010177528"
      ]
     },
     "execution_count": 7,
     "metadata": {},
     "output_type": "execute_result"
    }
   ],
   "source": [
    "# Calculamos el número de intervalos de clase \"ni\", aplicando la regla de Sturges\n",
    "n = 26582\n",
    "\n",
    "ni = 1 + 3.32 * np.log10(n)\n",
    "ni"
   ]
  },
  {
   "cell_type": "code",
   "execution_count": 8,
   "metadata": {},
   "outputs": [
    {
     "data": {
      "text/plain": [
       "23.263772090193346"
      ]
     },
     "execution_count": 8,
     "metadata": {},
     "output_type": "execute_result"
    }
   ],
   "source": [
    "# Calculamos el ancho del intervalo \"i\"\n",
    "i = R / ni\n",
    "i"
   ]
  },
  {
   "cell_type": "markdown",
   "metadata": {},
   "source": [
    "CREACIÓN DE CATEGORÍAS A PARTIR DE CLASES"
   ]
  },
  {
   "cell_type": "code",
   "execution_count": 9,
   "metadata": {},
   "outputs": [
    {
     "data": {
      "text/plain": [
       "array([  0.        ,  24.33333333,  48.66666667,  73.        ,\n",
       "        97.33333333, 121.66666667, 146.        , 170.33333333,\n",
       "       194.66666667, 219.        , 243.33333333, 267.66666667,\n",
       "       292.        , 316.33333333, 340.66666667, 365.        ])"
      ]
     },
     "execution_count": 9,
     "metadata": {},
     "output_type": "execute_result"
    }
   ],
   "source": [
    "# Categorización de variables\n",
    "intervalos = np.linspace (0, 365, 16)\n",
    "intervalos"
   ]
  },
  {
   "cell_type": "code",
   "execution_count": 10,
   "metadata": {},
   "outputs": [],
   "source": [
    "# Creamos las categorías\n",
    "categorias = [\n",
    "    \"Sin disponibilidad\",          \n",
    "    \"Ocasionalmente disponible\", \n",
    "    \"Disponible algunos días\",    \n",
    "    \"Disponible con frecuencia\",  \n",
    "    \"Disponible moderadamente\",  \n",
    "    \"Disponible regularmente\",    \n",
    "    \"Disponible la mitad del año\",\n",
    "    \"Alta disponibilidad parcial\",\n",
    "    \"Disponibilidad frecuente\",   \n",
    "    \"Muy disponible\",             \n",
    "    \"Disponible la mayor parte\",  \n",
    "    \"Casi siempre disponible\",    \n",
    "    \"Disponible casi todo el año\",\n",
    "    \"Disponible todo el año\",    \n",
    "    \"Máxima disponibilidad\"       \n",
    "]"
   ]
  },
  {
   "cell_type": "code",
   "execution_count": 11,
   "metadata": {},
   "outputs": [
    {
     "data": {
      "text/plain": [
       "0              Máxima disponibilidad\n",
       "1             Disponible todo el año\n",
       "2             Disponible todo el año\n",
       "3          Disponible la mayor parte\n",
       "4            Casi siempre disponible\n",
       "                    ...             \n",
       "26577          Máxima disponibilidad\n",
       "26578    Alta disponibilidad parcial\n",
       "26579    Alta disponibilidad parcial\n",
       "26580    Alta disponibilidad parcial\n",
       "26581    Disponible la mitad del año\n",
       "Name: availability_365, Length: 26582, dtype: category\n",
       "Categories (15, object): ['Sin disponibilidad' < 'Ocasionalmente disponible' < 'Disponible algunos días' < 'Disponible con frecuencia' ... 'Casi siempre disponible' < 'Disponible casi todo el año' < 'Disponible todo el año' < 'Máxima disponibilidad']"
      ]
     },
     "execution_count": 11,
     "metadata": {},
     "output_type": "execute_result"
    }
   ],
   "source": [
    "# Creamos las ctegorias en la columna numerica\n",
    "Mexico ['availability_365'] = pd.cut ( x = Mexico  ['availability_365'], bins = intervalos, labels = categorias )\n",
    "Mexico ['availability_365']"
   ]
  },
  {
   "cell_type": "code",
   "execution_count": 12,
   "metadata": {},
   "outputs": [
    {
     "data": {
      "text/html": [
       "<div>\n",
       "<style scoped>\n",
       "    .dataframe tbody tr th:only-of-type {\n",
       "        vertical-align: middle;\n",
       "    }\n",
       "\n",
       "    .dataframe tbody tr th {\n",
       "        vertical-align: top;\n",
       "    }\n",
       "\n",
       "    .dataframe thead th {\n",
       "        text-align: right;\n",
       "    }\n",
       "</style>\n",
       "<table border=\"1\" class=\"dataframe\">\n",
       "  <thead>\n",
       "    <tr style=\"text-align: right;\">\n",
       "      <th></th>\n",
       "      <th>availability_365</th>\n",
       "      <th>frequency</th>\n",
       "      <th>percentage</th>\n",
       "      <th>cumulative_perc</th>\n",
       "    </tr>\n",
       "  </thead>\n",
       "  <tbody>\n",
       "    <tr>\n",
       "      <th>0</th>\n",
       "      <td>Máxima disponibilidad</td>\n",
       "      <td>6605</td>\n",
       "      <td>0.248476</td>\n",
       "      <td>0.272686</td>\n",
       "    </tr>\n",
       "    <tr>\n",
       "      <th>1</th>\n",
       "      <td>Disponible todo el año</td>\n",
       "      <td>2815</td>\n",
       "      <td>0.105899</td>\n",
       "      <td>0.388903</td>\n",
       "    </tr>\n",
       "    <tr>\n",
       "      <th>2</th>\n",
       "      <td>Disponible la mayor parte</td>\n",
       "      <td>1977</td>\n",
       "      <td>0.074374</td>\n",
       "      <td>0.470523</td>\n",
       "    </tr>\n",
       "    <tr>\n",
       "      <th>3</th>\n",
       "      <td>Disponible con frecuencia</td>\n",
       "      <td>1692</td>\n",
       "      <td>0.063652</td>\n",
       "      <td>0.540377</td>\n",
       "    </tr>\n",
       "    <tr>\n",
       "      <th>4</th>\n",
       "      <td>Casi siempre disponible</td>\n",
       "      <td>1570</td>\n",
       "      <td>0.059063</td>\n",
       "      <td>0.605194</td>\n",
       "    </tr>\n",
       "    <tr>\n",
       "      <th>5</th>\n",
       "      <td>Disponible casi todo el año</td>\n",
       "      <td>1436</td>\n",
       "      <td>0.054022</td>\n",
       "      <td>0.664479</td>\n",
       "    </tr>\n",
       "    <tr>\n",
       "      <th>6</th>\n",
       "      <td>Disponible algunos días</td>\n",
       "      <td>1236</td>\n",
       "      <td>0.046498</td>\n",
       "      <td>0.715507</td>\n",
       "    </tr>\n",
       "    <tr>\n",
       "      <th>7</th>\n",
       "      <td>Disponible la mitad del año</td>\n",
       "      <td>1122</td>\n",
       "      <td>0.042209</td>\n",
       "      <td>0.761828</td>\n",
       "    </tr>\n",
       "    <tr>\n",
       "      <th>8</th>\n",
       "      <td>Alta disponibilidad parcial</td>\n",
       "      <td>1089</td>\n",
       "      <td>0.040968</td>\n",
       "      <td>0.806787</td>\n",
       "    </tr>\n",
       "    <tr>\n",
       "      <th>9</th>\n",
       "      <td>Muy disponible</td>\n",
       "      <td>1052</td>\n",
       "      <td>0.039576</td>\n",
       "      <td>0.850219</td>\n",
       "    </tr>\n",
       "    <tr>\n",
       "      <th>10</th>\n",
       "      <td>Disponible regularmente</td>\n",
       "      <td>883</td>\n",
       "      <td>0.033218</td>\n",
       "      <td>0.886673</td>\n",
       "    </tr>\n",
       "    <tr>\n",
       "      <th>11</th>\n",
       "      <td>Sin disponibilidad</td>\n",
       "      <td>769</td>\n",
       "      <td>0.028929</td>\n",
       "      <td>0.918421</td>\n",
       "    </tr>\n",
       "    <tr>\n",
       "      <th>12</th>\n",
       "      <td>Ocasionalmente disponible</td>\n",
       "      <td>706</td>\n",
       "      <td>0.026559</td>\n",
       "      <td>0.947568</td>\n",
       "    </tr>\n",
       "    <tr>\n",
       "      <th>13</th>\n",
       "      <td>Disponibilidad frecuente</td>\n",
       "      <td>636</td>\n",
       "      <td>0.023926</td>\n",
       "      <td>0.973825</td>\n",
       "    </tr>\n",
       "    <tr>\n",
       "      <th>14</th>\n",
       "      <td>Disponible moderadamente</td>\n",
       "      <td>634</td>\n",
       "      <td>0.023851</td>\n",
       "      <td>1.000000</td>\n",
       "    </tr>\n",
       "  </tbody>\n",
       "</table>\n",
       "</div>"
      ],
      "text/plain": [
       "               availability_365  frequency  percentage  cumulative_perc\n",
       "0         Máxima disponibilidad       6605    0.248476         0.272686\n",
       "1        Disponible todo el año       2815    0.105899         0.388903\n",
       "2     Disponible la mayor parte       1977    0.074374         0.470523\n",
       "3     Disponible con frecuencia       1692    0.063652         0.540377\n",
       "4       Casi siempre disponible       1570    0.059063         0.605194\n",
       "5   Disponible casi todo el año       1436    0.054022         0.664479\n",
       "6       Disponible algunos días       1236    0.046498         0.715507\n",
       "7   Disponible la mitad del año       1122    0.042209         0.761828\n",
       "8   Alta disponibilidad parcial       1089    0.040968         0.806787\n",
       "9                Muy disponible       1052    0.039576         0.850219\n",
       "10      Disponible regularmente        883    0.033218         0.886673\n",
       "11           Sin disponibilidad        769    0.028929         0.918421\n",
       "12    Ocasionalmente disponible        706    0.026559         0.947568\n",
       "13     Disponibilidad frecuente        636    0.023926         0.973825\n",
       "14     Disponible moderadamente        634    0.023851         1.000000"
      ]
     },
     "execution_count": 12,
     "metadata": {},
     "output_type": "execute_result"
    }
   ],
   "source": [
    "table1 = freq_tbl(Mexico ['availability_365'])\n",
    "table1"
   ]
  },
  {
   "cell_type": "code",
   "execution_count": 13,
   "metadata": {},
   "outputs": [
    {
     "data": {
      "text/html": [
       "<div>\n",
       "<style scoped>\n",
       "    .dataframe tbody tr th:only-of-type {\n",
       "        vertical-align: middle;\n",
       "    }\n",
       "\n",
       "    .dataframe tbody tr th {\n",
       "        vertical-align: top;\n",
       "    }\n",
       "\n",
       "    .dataframe thead th {\n",
       "        text-align: right;\n",
       "    }\n",
       "</style>\n",
       "<table border=\"1\" class=\"dataframe\">\n",
       "  <thead>\n",
       "    <tr style=\"text-align: right;\">\n",
       "      <th></th>\n",
       "      <th>availability_365</th>\n",
       "      <th>frequency</th>\n",
       "    </tr>\n",
       "  </thead>\n",
       "  <tbody>\n",
       "    <tr>\n",
       "      <th>0</th>\n",
       "      <td>Máxima disponibilidad</td>\n",
       "      <td>6605</td>\n",
       "    </tr>\n",
       "    <tr>\n",
       "      <th>1</th>\n",
       "      <td>Disponible todo el año</td>\n",
       "      <td>2815</td>\n",
       "    </tr>\n",
       "    <tr>\n",
       "      <th>2</th>\n",
       "      <td>Disponible la mayor parte</td>\n",
       "      <td>1977</td>\n",
       "    </tr>\n",
       "    <tr>\n",
       "      <th>3</th>\n",
       "      <td>Disponible con frecuencia</td>\n",
       "      <td>1692</td>\n",
       "    </tr>\n",
       "    <tr>\n",
       "      <th>4</th>\n",
       "      <td>Casi siempre disponible</td>\n",
       "      <td>1570</td>\n",
       "    </tr>\n",
       "    <tr>\n",
       "      <th>5</th>\n",
       "      <td>Disponible casi todo el año</td>\n",
       "      <td>1436</td>\n",
       "    </tr>\n",
       "    <tr>\n",
       "      <th>6</th>\n",
       "      <td>Disponible algunos días</td>\n",
       "      <td>1236</td>\n",
       "    </tr>\n",
       "    <tr>\n",
       "      <th>7</th>\n",
       "      <td>Disponible la mitad del año</td>\n",
       "      <td>1122</td>\n",
       "    </tr>\n",
       "    <tr>\n",
       "      <th>8</th>\n",
       "      <td>Alta disponibilidad parcial</td>\n",
       "      <td>1089</td>\n",
       "    </tr>\n",
       "    <tr>\n",
       "      <th>9</th>\n",
       "      <td>Muy disponible</td>\n",
       "      <td>1052</td>\n",
       "    </tr>\n",
       "    <tr>\n",
       "      <th>10</th>\n",
       "      <td>Disponible regularmente</td>\n",
       "      <td>883</td>\n",
       "    </tr>\n",
       "    <tr>\n",
       "      <th>11</th>\n",
       "      <td>Sin disponibilidad</td>\n",
       "      <td>769</td>\n",
       "    </tr>\n",
       "    <tr>\n",
       "      <th>12</th>\n",
       "      <td>Ocasionalmente disponible</td>\n",
       "      <td>706</td>\n",
       "    </tr>\n",
       "    <tr>\n",
       "      <th>13</th>\n",
       "      <td>Disponibilidad frecuente</td>\n",
       "      <td>636</td>\n",
       "    </tr>\n",
       "    <tr>\n",
       "      <th>14</th>\n",
       "      <td>Disponible moderadamente</td>\n",
       "      <td>634</td>\n",
       "    </tr>\n",
       "  </tbody>\n",
       "</table>\n",
       "</div>"
      ],
      "text/plain": [
       "               availability_365  frequency\n",
       "0         Máxima disponibilidad       6605\n",
       "1        Disponible todo el año       2815\n",
       "2     Disponible la mayor parte       1977\n",
       "3     Disponible con frecuencia       1692\n",
       "4       Casi siempre disponible       1570\n",
       "5   Disponible casi todo el año       1436\n",
       "6       Disponible algunos días       1236\n",
       "7   Disponible la mitad del año       1122\n",
       "8   Alta disponibilidad parcial       1089\n",
       "9                Muy disponible       1052\n",
       "10      Disponible regularmente        883\n",
       "11           Sin disponibilidad        769\n",
       "12    Ocasionalmente disponible        706\n",
       "13     Disponibilidad frecuente        636\n",
       "14     Disponible moderadamente        634"
      ]
     },
     "execution_count": 13,
     "metadata": {},
     "output_type": "execute_result"
    }
   ],
   "source": [
    "# Elimino las columnas \"porcentage\" y \"cumulative_perc\" para trabajar con las frecuencias\n",
    "\n",
    "table2 = table1.drop(['percentage', 'cumulative_perc'], axis=1)\n",
    "table2"
   ]
  },
  {
   "cell_type": "code",
   "execution_count": 14,
   "metadata": {},
   "outputs": [
    {
     "data": {
      "text/html": [
       "<div>\n",
       "<style scoped>\n",
       "    .dataframe tbody tr th:only-of-type {\n",
       "        vertical-align: middle;\n",
       "    }\n",
       "\n",
       "    .dataframe tbody tr th {\n",
       "        vertical-align: top;\n",
       "    }\n",
       "\n",
       "    .dataframe thead th {\n",
       "        text-align: right;\n",
       "    }\n",
       "</style>\n",
       "<table border=\"1\" class=\"dataframe\">\n",
       "  <thead>\n",
       "    <tr style=\"text-align: right;\">\n",
       "      <th></th>\n",
       "      <th>frequency</th>\n",
       "    </tr>\n",
       "    <tr>\n",
       "      <th>availability_365</th>\n",
       "      <th></th>\n",
       "    </tr>\n",
       "  </thead>\n",
       "  <tbody>\n",
       "    <tr>\n",
       "      <th>Máxima disponibilidad</th>\n",
       "      <td>6605</td>\n",
       "    </tr>\n",
       "    <tr>\n",
       "      <th>Disponible todo el año</th>\n",
       "      <td>2815</td>\n",
       "    </tr>\n",
       "    <tr>\n",
       "      <th>Disponible la mayor parte</th>\n",
       "      <td>1977</td>\n",
       "    </tr>\n",
       "    <tr>\n",
       "      <th>Disponible con frecuencia</th>\n",
       "      <td>1692</td>\n",
       "    </tr>\n",
       "    <tr>\n",
       "      <th>Casi siempre disponible</th>\n",
       "      <td>1570</td>\n",
       "    </tr>\n",
       "    <tr>\n",
       "      <th>Disponible casi todo el año</th>\n",
       "      <td>1436</td>\n",
       "    </tr>\n",
       "    <tr>\n",
       "      <th>Disponible algunos días</th>\n",
       "      <td>1236</td>\n",
       "    </tr>\n",
       "    <tr>\n",
       "      <th>Disponible la mitad del año</th>\n",
       "      <td>1122</td>\n",
       "    </tr>\n",
       "    <tr>\n",
       "      <th>Alta disponibilidad parcial</th>\n",
       "      <td>1089</td>\n",
       "    </tr>\n",
       "    <tr>\n",
       "      <th>Muy disponible</th>\n",
       "      <td>1052</td>\n",
       "    </tr>\n",
       "    <tr>\n",
       "      <th>Disponible regularmente</th>\n",
       "      <td>883</td>\n",
       "    </tr>\n",
       "    <tr>\n",
       "      <th>Sin disponibilidad</th>\n",
       "      <td>769</td>\n",
       "    </tr>\n",
       "    <tr>\n",
       "      <th>Ocasionalmente disponible</th>\n",
       "      <td>706</td>\n",
       "    </tr>\n",
       "    <tr>\n",
       "      <th>Disponibilidad frecuente</th>\n",
       "      <td>636</td>\n",
       "    </tr>\n",
       "    <tr>\n",
       "      <th>Disponible moderadamente</th>\n",
       "      <td>634</td>\n",
       "    </tr>\n",
       "  </tbody>\n",
       "</table>\n",
       "</div>"
      ],
      "text/plain": [
       "                             frequency\n",
       "availability_365                      \n",
       "Máxima disponibilidad             6605\n",
       "Disponible todo el año            2815\n",
       "Disponible la mayor parte         1977\n",
       "Disponible con frecuencia         1692\n",
       "Casi siempre disponible           1570\n",
       "Disponible casi todo el año       1436\n",
       "Disponible algunos días           1236\n",
       "Disponible la mitad del año       1122\n",
       "Alta disponibilidad parcial       1089\n",
       "Muy disponible                    1052\n",
       "Disponible regularmente            883\n",
       "Sin disponibilidad                 769\n",
       "Ocasionalmente disponible          706\n",
       "Disponibilidad frecuente           636\n",
       "Disponible moderadamente           634"
      ]
     },
     "execution_count": 14,
     "metadata": {},
     "output_type": "execute_result"
    }
   ],
   "source": [
    "# Ajusto el indice de mi data frame\n",
    "\n",
    "Filtro_index = table2.set_index('availability_365')\n",
    "Filtro_index"
   ]
  },
  {
   "cell_type": "code",
   "execution_count": 15,
   "metadata": {},
   "outputs": [
    {
     "data": {
      "text/plain": [
       "Text(0, 0.5, 'Frecuencia')"
      ]
     },
     "execution_count": 15,
     "metadata": {},
     "output_type": "execute_result"
    },
    {
     "data": {
      "image/png": "[encoded data removed]",
      "text/plain": [
       "<Figure size 1000x400 with 1 Axes>"
      ]
     },
     "metadata": {},
     "output_type": "display_data"
    }
   ],
   "source": [
    "# Realizamos gráfico de barras del dataframe filtrado\n",
    "\n",
    "Filtro_index.plot( kind = 'bar', width = 0.8, figsize = (10,4), color = \"blue\" )\n",
    "plt.title('Número de noches disponibles para reservar en los próximos 365 días')\n",
    "plt.xlabel('Tipo de categoria')\n",
    "plt.ylabel('Frecuencia')"
   ]
  }
 ],
 "metadata": {
  "kernelspec": {
   "display_name": "Python 3",
   "language": "python",
   "name": "python3"
  },
  "language_info": {
   "codemirror_mode": {
    "name": "ipython",
    "version": 3
   },
   "file_extension": ".py",
   "mimetype": "text/x-python",
   "name": "python",
   "nbconvert_exporter": "python",
   "pygments_lexer": "ipython3",
   "version": "3.13.1"
  }
 },
 "nbformat": 4,
 "nbformat_minor": 2
}
