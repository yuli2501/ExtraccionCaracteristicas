{
 "cells": [
  {
   "cell_type": "code",
   "execution_count": 1,
   "metadata": {},
   "outputs": [],
   "source": [
    "import pandas as pd\n",
    "import numpy as np\n",
    "import matplotlib.pyplot as plt\n",
    "from funpymodeling.exploratory import freq_tbl"
   ]
  },
  {
   "cell_type": "code",
   "execution_count": 2,
   "metadata": {},
   "outputs": [],
   "source": [
    "# Carga desde un archivo .xlsx sin indice\n",
    "Amsterdam  = pd.read_csv('Amsterdam.csv')\n",
    "Amsterdam = Amsterdam.drop(columns = [\"Unnamed: 0.1\", \"Unnamed: 0\"])"
   ]
  },
  {
   "cell_type": "code",
   "execution_count": 3,
   "metadata": {},
   "outputs": [
    {
     "name": "stdout",
     "output_type": "stream",
     "text": [
      "<class 'pandas.core.frame.DataFrame'>\n",
      "RangeIndex: 9659 entries, 0 to 9658\n",
      "Data columns (total 50 columns):\n",
      " #   Column                                        Non-Null Count  Dtype  \n",
      "---  ------                                        --------------  -----  \n",
      " 0   last_scraped                                  9659 non-null   object \n",
      " 1   name                                          9659 non-null   object \n",
      " 2   host_name                                     9659 non-null   object \n",
      " 3   host_since                                    9659 non-null   object \n",
      " 4   host_response_time                            9659 non-null   object \n",
      " 5   host_response_rate                            9659 non-null   object \n",
      " 6   host_acceptance_rate                          9659 non-null   object \n",
      " 7   host_is_superhost                             9659 non-null   object \n",
      " 8   host_identity_verified                        9659 non-null   object \n",
      " 9   neighbourhood                                 9659 non-null   object \n",
      " 10  property_type                                 9659 non-null   object \n",
      " 11  room_type                                     9659 non-null   object \n",
      " 12  amenities                                     9659 non-null   object \n",
      " 13  has_availability                              9659 non-null   object \n",
      " 14  first_review                                  9659 non-null   object \n",
      " 15  last_review                                   9659 non-null   object \n",
      " 16  license                                       9659 non-null   object \n",
      " 17  instant_bookable                              9659 non-null   object \n",
      " 18  id                                            9659 non-null   int64  \n",
      " 19  scrape_id                                     9659 non-null   int64  \n",
      " 20  host_id                                       9659 non-null   float64\n",
      " 21  host_listings_count                           9659 non-null   float64\n",
      " 22  host_total_listings_count                     9659 non-null   float64\n",
      " 23  latitude                                      9659 non-null   float64\n",
      " 24  longitude                                     9659 non-null   float64\n",
      " 25  accommodates                                  9659 non-null   float64\n",
      " 26  bathrooms                                     9659 non-null   float64\n",
      " 27  bedrooms                                      9659 non-null   float64\n",
      " 28  beds                                          9659 non-null   float64\n",
      " 29  price                                         9659 non-null   float64\n",
      " 30  minimum_nights                                9659 non-null   float64\n",
      " 31  maximum_nights                                9659 non-null   float64\n",
      " 32  minimum_nights_avg_ntm                        9659 non-null   float64\n",
      " 33  maximum_nights_avg_ntm                        9659 non-null   float64\n",
      " 34  calendar_updated                              9659 non-null   float64\n",
      " 35  availability_30                               9659 non-null   float64\n",
      " 36  availability_90                               9659 non-null   int64  \n",
      " 37  availability_365                              9659 non-null   int64  \n",
      " 38  number_of_reviews                             9659 non-null   float64\n",
      " 39  review_scores_rating                          9659 non-null   float64\n",
      " 40  review_scores_accuracy                        9659 non-null   float64\n",
      " 41  review_scores_cleanliness                     9659 non-null   float64\n",
      " 42  review_scores_checkin                         9659 non-null   float64\n",
      " 43  review_scores_communication                   9659 non-null   float64\n",
      " 44  review_scores_location                        9659 non-null   float64\n",
      " 45  review_scores_value                           9659 non-null   float64\n",
      " 46  calculated_host_listings_count                9659 non-null   float64\n",
      " 47  calculated_host_listings_count_entire_homes   9659 non-null   float64\n",
      " 48  calculated_host_listings_count_private_rooms  9659 non-null   float64\n",
      " 49  calculated_host_listings_count_shared_rooms   9659 non-null   float64\n",
      "dtypes: float64(28), int64(4), object(18)\n",
      "memory usage: 3.7+ MB\n"
     ]
    }
   ],
   "source": [
    "# Verificamos información del dataframe\n",
    "Amsterdam.info()"
   ]
  },
  {
   "cell_type": "markdown",
   "metadata": {},
   "source": [
    "DETERMINACIÓN DE CLASES PARA DATOS AGRUPADOS "
   ]
  },
  {
   "cell_type": "code",
   "execution_count": 4,
   "metadata": {},
   "outputs": [
    {
     "name": "stdout",
     "output_type": "stream",
     "text": [
      "<class 'pandas.core.series.Series'>\n",
      "RangeIndex: 9659 entries, 0 to 9658\n",
      "Series name: number_of_reviews\n",
      "Non-Null Count  Dtype  \n",
      "--------------  -----  \n",
      "9659 non-null   float64\n",
      "dtypes: float64(1)\n",
      "memory usage: 75.6 KB\n"
     ]
    }
   ],
   "source": [
    "#Calculamos el numero total de la población \"n\"\n",
    "\n",
    "Amsterdam['number_of_reviews'].info()"
   ]
  },
  {
   "cell_type": "code",
   "execution_count": 5,
   "metadata": {},
   "outputs": [
    {
     "data": {
      "text/plain": [
       "[0.0, 75.0]"
      ]
     },
     "execution_count": 5,
     "metadata": {},
     "output_type": "execute_result"
    }
   ],
   "source": [
    "# Obtenemos el limite superior y el límite inferios de la columna objetivo\n",
    "Max = Amsterdam['number_of_reviews'].max()\n",
    "Min = Amsterdam['number_of_reviews'].min()\n",
    "Limites = [Min, Max]\n",
    "Limites"
   ]
  },
  {
   "cell_type": "code",
   "execution_count": 6,
   "metadata": {},
   "outputs": [
    {
     "data": {
      "text/plain": [
       "75.0"
      ]
     },
     "execution_count": 6,
     "metadata": {},
     "output_type": "execute_result"
    }
   ],
   "source": [
    "# Calculamos el rango R\n",
    "R = Max - Min\n",
    "R"
   ]
  },
  {
   "cell_type": "code",
   "execution_count": 7,
   "metadata": {},
   "outputs": [
    {
     "data": {
      "text/plain": [
       "14.229974791343807"
      ]
     },
     "execution_count": 7,
     "metadata": {},
     "output_type": "execute_result"
    }
   ],
   "source": [
    "# Calculamos el número de intervalos de clase \"ni\", aplicando la regla de Sturges\n",
    "n = 9659\n",
    "\n",
    "ni = 1 + 3.32 * np.log10(n)\n",
    "ni"
   ]
  },
  {
   "cell_type": "code",
   "execution_count": 8,
   "metadata": {},
   "outputs": [
    {
     "data": {
      "text/plain": [
       "5.2705645020273"
      ]
     },
     "execution_count": 8,
     "metadata": {},
     "output_type": "execute_result"
    }
   ],
   "source": [
    "# Calculamos el ancho del intervalo \"i\"\n",
    "i = R / ni\n",
    "i"
   ]
  },
  {
   "cell_type": "markdown",
   "metadata": {},
   "source": [
    "CREACIÓN DE CATEGORÍAS A PARTIR DE CLASES"
   ]
  },
  {
   "cell_type": "code",
   "execution_count": 9,
   "metadata": {},
   "outputs": [
    {
     "data": {
      "text/plain": [
       "array([ 0.        ,  5.35714286, 10.71428571, 16.07142857, 21.42857143,\n",
       "       26.78571429, 32.14285714, 37.5       , 42.85714286, 48.21428571,\n",
       "       53.57142857, 58.92857143, 64.28571429, 69.64285714, 75.        ])"
      ]
     },
     "execution_count": 9,
     "metadata": {},
     "output_type": "execute_result"
    }
   ],
   "source": [
    "# Categorización de variables\n",
    "intervalos = np.linspace (0, 75, 15)\n",
    "intervalos"
   ]
  },
  {
   "cell_type": "code",
   "execution_count": 10,
   "metadata": {},
   "outputs": [],
   "source": [
    "# Creamos las categorías\n",
    "categorias = [ \"Categoria1\", \"Categoria2\", \"Categoria3\", \"Categoria4\", \"Categoria5\", \"Categoria6\", \"Categoria7\", \"Categoria8\", \"Categoria9\", \"Categoria10\", \"Categoria11\", \"Categoria12\", \"Categoria13\", \"Categoria14\" ]"
   ]
  },
  {
   "cell_type": "code",
   "execution_count": 11,
   "metadata": {},
   "outputs": [
    {
     "data": {
      "text/plain": [
       "0       Categoria9\n",
       "1              NaN\n",
       "2       Categoria3\n",
       "3       Categoria1\n",
       "4       Categoria3\n",
       "           ...    \n",
       "9654           NaN\n",
       "9655           NaN\n",
       "9656    Categoria2\n",
       "9657           NaN\n",
       "9658           NaN\n",
       "Name: number_of_reviews, Length: 9659, dtype: category\n",
       "Categories (14, object): ['Categoria1' < 'Categoria2' < 'Categoria3' < 'Categoria4' ... 'Categoria11' < 'Categoria12' < 'Categoria13' < 'Categoria14']"
      ]
     },
     "execution_count": 11,
     "metadata": {},
     "output_type": "execute_result"
    }
   ],
   "source": [
    "# Creamos las ctegorias en la columna numerica\n",
    "Amsterdam['number_of_reviews'] = pd.cut ( x = Amsterdam ['number_of_reviews'], bins = intervalos, labels = categorias )\n",
    "Amsterdam['number_of_reviews']"
   ]
  },
  {
   "cell_type": "code",
   "execution_count": 12,
   "metadata": {},
   "outputs": [
    {
     "data": {
      "text/html": [
       "<div>\n",
       "<style scoped>\n",
       "    .dataframe tbody tr th:only-of-type {\n",
       "        vertical-align: middle;\n",
       "    }\n",
       "\n",
       "    .dataframe tbody tr th {\n",
       "        vertical-align: top;\n",
       "    }\n",
       "\n",
       "    .dataframe thead th {\n",
       "        text-align: right;\n",
       "    }\n",
       "</style>\n",
       "<table border=\"1\" class=\"dataframe\">\n",
       "  <thead>\n",
       "    <tr style=\"text-align: right;\">\n",
       "      <th></th>\n",
       "      <th>number_of_reviews</th>\n",
       "      <th>frequency</th>\n",
       "      <th>percentage</th>\n",
       "      <th>cumulative_perc</th>\n",
       "    </tr>\n",
       "  </thead>\n",
       "  <tbody>\n",
       "    <tr>\n",
       "      <th>0</th>\n",
       "      <td>Categoria1</td>\n",
       "      <td>2507</td>\n",
       "      <td>0.259551</td>\n",
       "      <td>0.290431</td>\n",
       "    </tr>\n",
       "    <tr>\n",
       "      <th>1</th>\n",
       "      <td>Categoria3</td>\n",
       "      <td>2342</td>\n",
       "      <td>0.242468</td>\n",
       "      <td>0.561747</td>\n",
       "    </tr>\n",
       "    <tr>\n",
       "      <th>2</th>\n",
       "      <td>Categoria2</td>\n",
       "      <td>1529</td>\n",
       "      <td>0.158298</td>\n",
       "      <td>0.738879</td>\n",
       "    </tr>\n",
       "    <tr>\n",
       "      <th>3</th>\n",
       "      <td>Categoria4</td>\n",
       "      <td>506</td>\n",
       "      <td>0.052386</td>\n",
       "      <td>0.797498</td>\n",
       "    </tr>\n",
       "    <tr>\n",
       "      <th>4</th>\n",
       "      <td>Categoria5</td>\n",
       "      <td>379</td>\n",
       "      <td>0.039238</td>\n",
       "      <td>0.841404</td>\n",
       "    </tr>\n",
       "    <tr>\n",
       "      <th>5</th>\n",
       "      <td>Categoria6</td>\n",
       "      <td>318</td>\n",
       "      <td>0.032923</td>\n",
       "      <td>0.878244</td>\n",
       "    </tr>\n",
       "    <tr>\n",
       "      <th>6</th>\n",
       "      <td>Categoria7</td>\n",
       "      <td>195</td>\n",
       "      <td>0.020188</td>\n",
       "      <td>0.900834</td>\n",
       "    </tr>\n",
       "    <tr>\n",
       "      <th>7</th>\n",
       "      <td>Categoria8</td>\n",
       "      <td>195</td>\n",
       "      <td>0.020188</td>\n",
       "      <td>0.923424</td>\n",
       "    </tr>\n",
       "    <tr>\n",
       "      <th>8</th>\n",
       "      <td>Categoria9</td>\n",
       "      <td>189</td>\n",
       "      <td>0.019567</td>\n",
       "      <td>0.945320</td>\n",
       "    </tr>\n",
       "    <tr>\n",
       "      <th>9</th>\n",
       "      <td>Categoria10</td>\n",
       "      <td>128</td>\n",
       "      <td>0.013252</td>\n",
       "      <td>0.960148</td>\n",
       "    </tr>\n",
       "    <tr>\n",
       "      <th>10</th>\n",
       "      <td>Categoria12</td>\n",
       "      <td>94</td>\n",
       "      <td>0.009732</td>\n",
       "      <td>0.971038</td>\n",
       "    </tr>\n",
       "    <tr>\n",
       "      <th>11</th>\n",
       "      <td>Categoria11</td>\n",
       "      <td>92</td>\n",
       "      <td>0.009525</td>\n",
       "      <td>0.981696</td>\n",
       "    </tr>\n",
       "    <tr>\n",
       "      <th>12</th>\n",
       "      <td>Categoria14</td>\n",
       "      <td>92</td>\n",
       "      <td>0.009525</td>\n",
       "      <td>0.992354</td>\n",
       "    </tr>\n",
       "    <tr>\n",
       "      <th>13</th>\n",
       "      <td>Categoria13</td>\n",
       "      <td>66</td>\n",
       "      <td>0.006833</td>\n",
       "      <td>1.000000</td>\n",
       "    </tr>\n",
       "  </tbody>\n",
       "</table>\n",
       "</div>"
      ],
      "text/plain": [
       "   number_of_reviews  frequency  percentage  cumulative_perc\n",
       "0         Categoria1       2507    0.259551         0.290431\n",
       "1         Categoria3       2342    0.242468         0.561747\n",
       "2         Categoria2       1529    0.158298         0.738879\n",
       "3         Categoria4        506    0.052386         0.797498\n",
       "4         Categoria5        379    0.039238         0.841404\n",
       "5         Categoria6        318    0.032923         0.878244\n",
       "6         Categoria7        195    0.020188         0.900834\n",
       "7         Categoria8        195    0.020188         0.923424\n",
       "8         Categoria9        189    0.019567         0.945320\n",
       "9        Categoria10        128    0.013252         0.960148\n",
       "10       Categoria12         94    0.009732         0.971038\n",
       "11       Categoria11         92    0.009525         0.981696\n",
       "12       Categoria14         92    0.009525         0.992354\n",
       "13       Categoria13         66    0.006833         1.000000"
      ]
     },
     "execution_count": 12,
     "metadata": {},
     "output_type": "execute_result"
    }
   ],
   "source": [
    "table1 = freq_tbl(Amsterdam['number_of_reviews'])\n",
    "table1"
   ]
  },
  {
   "cell_type": "code",
   "execution_count": 13,
   "metadata": {},
   "outputs": [
    {
     "data": {
      "text/html": [
       "<div>\n",
       "<style scoped>\n",
       "    .dataframe tbody tr th:only-of-type {\n",
       "        vertical-align: middle;\n",
       "    }\n",
       "\n",
       "    .dataframe tbody tr th {\n",
       "        vertical-align: top;\n",
       "    }\n",
       "\n",
       "    .dataframe thead th {\n",
       "        text-align: right;\n",
       "    }\n",
       "</style>\n",
       "<table border=\"1\" class=\"dataframe\">\n",
       "  <thead>\n",
       "    <tr style=\"text-align: right;\">\n",
       "      <th></th>\n",
       "      <th>number_of_reviews</th>\n",
       "      <th>frequency</th>\n",
       "    </tr>\n",
       "  </thead>\n",
       "  <tbody>\n",
       "    <tr>\n",
       "      <th>0</th>\n",
       "      <td>Categoria1</td>\n",
       "      <td>2507</td>\n",
       "    </tr>\n",
       "    <tr>\n",
       "      <th>1</th>\n",
       "      <td>Categoria3</td>\n",
       "      <td>2342</td>\n",
       "    </tr>\n",
       "    <tr>\n",
       "      <th>2</th>\n",
       "      <td>Categoria2</td>\n",
       "      <td>1529</td>\n",
       "    </tr>\n",
       "    <tr>\n",
       "      <th>3</th>\n",
       "      <td>Categoria4</td>\n",
       "      <td>506</td>\n",
       "    </tr>\n",
       "    <tr>\n",
       "      <th>4</th>\n",
       "      <td>Categoria5</td>\n",
       "      <td>379</td>\n",
       "    </tr>\n",
       "    <tr>\n",
       "      <th>5</th>\n",
       "      <td>Categoria6</td>\n",
       "      <td>318</td>\n",
       "    </tr>\n",
       "    <tr>\n",
       "      <th>6</th>\n",
       "      <td>Categoria7</td>\n",
       "      <td>195</td>\n",
       "    </tr>\n",
       "    <tr>\n",
       "      <th>7</th>\n",
       "      <td>Categoria8</td>\n",
       "      <td>195</td>\n",
       "    </tr>\n",
       "    <tr>\n",
       "      <th>8</th>\n",
       "      <td>Categoria9</td>\n",
       "      <td>189</td>\n",
       "    </tr>\n",
       "    <tr>\n",
       "      <th>9</th>\n",
       "      <td>Categoria10</td>\n",
       "      <td>128</td>\n",
       "    </tr>\n",
       "    <tr>\n",
       "      <th>10</th>\n",
       "      <td>Categoria12</td>\n",
       "      <td>94</td>\n",
       "    </tr>\n",
       "    <tr>\n",
       "      <th>11</th>\n",
       "      <td>Categoria11</td>\n",
       "      <td>92</td>\n",
       "    </tr>\n",
       "    <tr>\n",
       "      <th>12</th>\n",
       "      <td>Categoria14</td>\n",
       "      <td>92</td>\n",
       "    </tr>\n",
       "    <tr>\n",
       "      <th>13</th>\n",
       "      <td>Categoria13</td>\n",
       "      <td>66</td>\n",
       "    </tr>\n",
       "  </tbody>\n",
       "</table>\n",
       "</div>"
      ],
      "text/plain": [
       "   number_of_reviews  frequency\n",
       "0         Categoria1       2507\n",
       "1         Categoria3       2342\n",
       "2         Categoria2       1529\n",
       "3         Categoria4        506\n",
       "4         Categoria5        379\n",
       "5         Categoria6        318\n",
       "6         Categoria7        195\n",
       "7         Categoria8        195\n",
       "8         Categoria9        189\n",
       "9        Categoria10        128\n",
       "10       Categoria12         94\n",
       "11       Categoria11         92\n",
       "12       Categoria14         92\n",
       "13       Categoria13         66"
      ]
     },
     "execution_count": 13,
     "metadata": {},
     "output_type": "execute_result"
    }
   ],
   "source": [
    "# Elimino las columnas \"porcentage\" y \"cumulative_perc\" para trabajar con las frecuencias\n",
    "\n",
    "table2 = table1.drop(['percentage', 'cumulative_perc'], axis=1)\n",
    "table2"
   ]
  },
  {
   "cell_type": "code",
   "execution_count": 14,
   "metadata": {},
   "outputs": [
    {
     "data": {
      "text/html": [
       "<div>\n",
       "<style scoped>\n",
       "    .dataframe tbody tr th:only-of-type {\n",
       "        vertical-align: middle;\n",
       "    }\n",
       "\n",
       "    .dataframe tbody tr th {\n",
       "        vertical-align: top;\n",
       "    }\n",
       "\n",
       "    .dataframe thead th {\n",
       "        text-align: right;\n",
       "    }\n",
       "</style>\n",
       "<table border=\"1\" class=\"dataframe\">\n",
       "  <thead>\n",
       "    <tr style=\"text-align: right;\">\n",
       "      <th></th>\n",
       "      <th>frequency</th>\n",
       "    </tr>\n",
       "    <tr>\n",
       "      <th>number_of_reviews</th>\n",
       "      <th></th>\n",
       "    </tr>\n",
       "  </thead>\n",
       "  <tbody>\n",
       "    <tr>\n",
       "      <th>Categoria1</th>\n",
       "      <td>2507</td>\n",
       "    </tr>\n",
       "    <tr>\n",
       "      <th>Categoria3</th>\n",
       "      <td>2342</td>\n",
       "    </tr>\n",
       "    <tr>\n",
       "      <th>Categoria2</th>\n",
       "      <td>1529</td>\n",
       "    </tr>\n",
       "    <tr>\n",
       "      <th>Categoria4</th>\n",
       "      <td>506</td>\n",
       "    </tr>\n",
       "    <tr>\n",
       "      <th>Categoria5</th>\n",
       "      <td>379</td>\n",
       "    </tr>\n",
       "    <tr>\n",
       "      <th>Categoria6</th>\n",
       "      <td>318</td>\n",
       "    </tr>\n",
       "    <tr>\n",
       "      <th>Categoria7</th>\n",
       "      <td>195</td>\n",
       "    </tr>\n",
       "    <tr>\n",
       "      <th>Categoria8</th>\n",
       "      <td>195</td>\n",
       "    </tr>\n",
       "    <tr>\n",
       "      <th>Categoria9</th>\n",
       "      <td>189</td>\n",
       "    </tr>\n",
       "    <tr>\n",
       "      <th>Categoria10</th>\n",
       "      <td>128</td>\n",
       "    </tr>\n",
       "    <tr>\n",
       "      <th>Categoria12</th>\n",
       "      <td>94</td>\n",
       "    </tr>\n",
       "    <tr>\n",
       "      <th>Categoria11</th>\n",
       "      <td>92</td>\n",
       "    </tr>\n",
       "    <tr>\n",
       "      <th>Categoria14</th>\n",
       "      <td>92</td>\n",
       "    </tr>\n",
       "    <tr>\n",
       "      <th>Categoria13</th>\n",
       "      <td>66</td>\n",
       "    </tr>\n",
       "  </tbody>\n",
       "</table>\n",
       "</div>"
      ],
      "text/plain": [
       "                   frequency\n",
       "number_of_reviews           \n",
       "Categoria1              2507\n",
       "Categoria3              2342\n",
       "Categoria2              1529\n",
       "Categoria4               506\n",
       "Categoria5               379\n",
       "Categoria6               318\n",
       "Categoria7               195\n",
       "Categoria8               195\n",
       "Categoria9               189\n",
       "Categoria10              128\n",
       "Categoria12               94\n",
       "Categoria11               92\n",
       "Categoria14               92\n",
       "Categoria13               66"
      ]
     },
     "execution_count": 14,
     "metadata": {},
     "output_type": "execute_result"
    }
   ],
   "source": [
    "# Ajusto el indice de mi data frame\n",
    "\n",
    "Filtro_index = table2.set_index('number_of_reviews')\n",
    "Filtro_index"
   ]
  },
  {
   "cell_type": "code",
   "execution_count": 15,
   "metadata": {},
   "outputs": [
    {
     "data": {
      "text/plain": [
       "Text(0, 0.5, 'Frecuencia')"
      ]
     },
     "execution_count": 15,
     "metadata": {},
     "output_type": "execute_result"
    },
    {
     "data": {
      "image/png": "[encoded data removed]",
      "text/plain": [
       "<Figure size 1000x400 with 1 Axes>"
      ]
     },
     "metadata": {},
     "output_type": "display_data"
    }
   ],
   "source": [
    "# Realizamos gráfico de barras del dataframe filtrado\n",
    "\n",
    "Filtro_index.plot( kind = 'bar', width = 0.8, figsize = (10,4), color = \"blue\" )\n",
    "plt.title('Total de reseñas recibidas por el alojamiento')\n",
    "plt.xlabel('Tipo de categoria')\n",
    "plt.ylabel('Frecuencia')"
   ]
  }
 ],
 "metadata": {
  "kernelspec": {
   "display_name": "Python 3",
   "language": "python",
   "name": "python3"
  },
  "language_info": {
   "codemirror_mode": {
    "name": "ipython",
    "version": 3
   },
   "file_extension": ".py",
   "mimetype": "text/x-python",
   "name": "python",
   "nbconvert_exporter": "python",
   "pygments_lexer": "ipython3",
   "version": "3.13.1"
  }
 },
 "nbformat": 4,
 "nbformat_minor": 2
}
