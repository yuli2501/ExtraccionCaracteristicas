{
 "cells": [
  {
   "cell_type": "code",
   "execution_count": 1,
   "metadata": {},
   "outputs": [],
   "source": [
    "import pandas as pd\n",
    "import numpy as np\n",
    "import matplotlib.pyplot as plt\n",
    "from funpymodeling.exploratory import freq_tbl"
   ]
  },
  {
   "cell_type": "code",
   "execution_count": 2,
   "metadata": {},
   "outputs": [],
   "source": [
    "# Carga desde un archivo .xlsx sin indice\n",
    "Amsterdam  = pd.read_csv('Amsterdam.csv')\n",
    "Amsterdam = Amsterdam.drop(columns = [\"Unnamed: 0.1\", \"Unnamed: 0\"])"
   ]
  },
  {
   "cell_type": "code",
   "execution_count": 3,
   "metadata": {},
   "outputs": [
    {
     "name": "stdout",
     "output_type": "stream",
     "text": [
      "<class 'pandas.core.frame.DataFrame'>\n",
      "RangeIndex: 9659 entries, 0 to 9658\n",
      "Data columns (total 50 columns):\n",
      " #   Column                                        Non-Null Count  Dtype  \n",
      "---  ------                                        --------------  -----  \n",
      " 0   last_scraped                                  9659 non-null   object \n",
      " 1   name                                          9659 non-null   object \n",
      " 2   host_name                                     9659 non-null   object \n",
      " 3   host_since                                    9659 non-null   object \n",
      " 4   host_response_time                            9659 non-null   object \n",
      " 5   host_response_rate                            9659 non-null   object \n",
      " 6   host_acceptance_rate                          9659 non-null   object \n",
      " 7   host_is_superhost                             9659 non-null   object \n",
      " 8   host_identity_verified                        9659 non-null   object \n",
      " 9   neighbourhood                                 9659 non-null   object \n",
      " 10  property_type                                 9659 non-null   object \n",
      " 11  room_type                                     9659 non-null   object \n",
      " 12  amenities                                     9659 non-null   object \n",
      " 13  has_availability                              9659 non-null   object \n",
      " 14  first_review                                  9659 non-null   object \n",
      " 15  last_review                                   9659 non-null   object \n",
      " 16  license                                       9659 non-null   object \n",
      " 17  instant_bookable                              9659 non-null   object \n",
      " 18  id                                            9659 non-null   int64  \n",
      " 19  scrape_id                                     9659 non-null   int64  \n",
      " 20  host_id                                       9659 non-null   float64\n",
      " 21  host_listings_count                           9659 non-null   float64\n",
      " 22  host_total_listings_count                     9659 non-null   float64\n",
      " 23  latitude                                      9659 non-null   float64\n",
      " 24  longitude                                     9659 non-null   float64\n",
      " 25  accommodates                                  9659 non-null   float64\n",
      " 26  bathrooms                                     9659 non-null   float64\n",
      " 27  bedrooms                                      9659 non-null   float64\n",
      " 28  beds                                          9659 non-null   float64\n",
      " 29  price                                         9659 non-null   float64\n",
      " 30  minimum_nights                                9659 non-null   float64\n",
      " 31  maximum_nights                                9659 non-null   float64\n",
      " 32  minimum_nights_avg_ntm                        9659 non-null   float64\n",
      " 33  maximum_nights_avg_ntm                        9659 non-null   float64\n",
      " 34  calendar_updated                              9659 non-null   float64\n",
      " 35  availability_30                               9659 non-null   float64\n",
      " 36  availability_90                               9659 non-null   int64  \n",
      " 37  availability_365                              9659 non-null   int64  \n",
      " 38  number_of_reviews                             9659 non-null   float64\n",
      " 39  review_scores_rating                          9659 non-null   float64\n",
      " 40  review_scores_accuracy                        9659 non-null   float64\n",
      " 41  review_scores_cleanliness                     9659 non-null   float64\n",
      " 42  review_scores_checkin                         9659 non-null   float64\n",
      " 43  review_scores_communication                   9659 non-null   float64\n",
      " 44  review_scores_location                        9659 non-null   float64\n",
      " 45  review_scores_value                           9659 non-null   float64\n",
      " 46  calculated_host_listings_count                9659 non-null   float64\n",
      " 47  calculated_host_listings_count_entire_homes   9659 non-null   float64\n",
      " 48  calculated_host_listings_count_private_rooms  9659 non-null   float64\n",
      " 49  calculated_host_listings_count_shared_rooms   9659 non-null   float64\n",
      "dtypes: float64(28), int64(4), object(18)\n",
      "memory usage: 3.7+ MB\n"
     ]
    }
   ],
   "source": [
    "# Verificamos información del dataframe\n",
    "Amsterdam.info()"
   ]
  },
  {
   "cell_type": "markdown",
   "metadata": {},
   "source": [
    "DETERMINACIÓN DE CLASES PARA DATOS AGRUPADOS "
   ]
  },
  {
   "cell_type": "code",
   "execution_count": 4,
   "metadata": {},
   "outputs": [
    {
     "name": "stdout",
     "output_type": "stream",
     "text": [
      "<class 'pandas.core.series.Series'>\n",
      "RangeIndex: 9659 entries, 0 to 9658\n",
      "Series name: review_scores_checkin\n",
      "Non-Null Count  Dtype  \n",
      "--------------  -----  \n",
      "9659 non-null   float64\n",
      "dtypes: float64(1)\n",
      "memory usage: 75.6 KB\n"
     ]
    }
   ],
   "source": [
    "#Calculamos el numero total de la población \"n\"\n",
    "\n",
    "Amsterdam['review_scores_checkin'].info()"
   ]
  },
  {
   "cell_type": "code",
   "execution_count": 11,
   "metadata": {},
   "outputs": [
    {
     "data": {
      "text/plain": [
       "[4.7, 5.0]"
      ]
     },
     "execution_count": 11,
     "metadata": {},
     "output_type": "execute_result"
    }
   ],
   "source": [
    "# Obtenemos el limite superior y el límite inferios de la columna objetivo\n",
    "Max = Amsterdam['review_scores_checkin'].max()\n",
    "Min = Amsterdam['review_scores_checkin'].min()\n",
    "Limites = [Min, Max]\n",
    "Limites"
   ]
  },
  {
   "cell_type": "code",
   "execution_count": 12,
   "metadata": {},
   "outputs": [
    {
     "data": {
      "text/plain": [
       "0.2999999999999998"
      ]
     },
     "execution_count": 12,
     "metadata": {},
     "output_type": "execute_result"
    }
   ],
   "source": [
    "# Calculamos el rango R\n",
    "R = Max - Min\n",
    "R"
   ]
  },
  {
   "cell_type": "code",
   "execution_count": 13,
   "metadata": {},
   "outputs": [
    {
     "data": {
      "text/plain": [
       "14.229974791343807"
      ]
     },
     "execution_count": 13,
     "metadata": {},
     "output_type": "execute_result"
    }
   ],
   "source": [
    "# Calculamos el número de intervalos de clase \"ni\", aplicando la regla de Sturges\n",
    "n = 9659\n",
    "\n",
    "ni = 1 + 3.32 * np.log10(n)\n",
    "ni"
   ]
  },
  {
   "cell_type": "code",
   "execution_count": 14,
   "metadata": {},
   "outputs": [
    {
     "data": {
      "text/plain": [
       "0.021082258008109186"
      ]
     },
     "execution_count": 14,
     "metadata": {},
     "output_type": "execute_result"
    }
   ],
   "source": [
    "# Calculamos el ancho del intervalo \"i\"\n",
    "i = R / ni\n",
    "i"
   ]
  },
  {
   "cell_type": "markdown",
   "metadata": {},
   "source": [
    "CREACIÓN DE CATEGORÍAS A PARTIR DE CLASES"
   ]
  },
  {
   "cell_type": "code",
   "execution_count": 15,
   "metadata": {},
   "outputs": [
    {
     "data": {
      "text/plain": [
       "array([4.7       , 4.72142857, 4.74285714, 4.76428571, 4.78571429,\n",
       "       4.80714286, 4.82857143, 4.85      , 4.87142857, 4.89285714,\n",
       "       4.91428571, 4.93571429, 4.95714286, 4.97857143, 5.        ])"
      ]
     },
     "execution_count": 15,
     "metadata": {},
     "output_type": "execute_result"
    }
   ],
   "source": [
    "# Categorización de variables\n",
    "intervalos = np.linspace (4.7, 5, 15)\n",
    "intervalos"
   ]
  },
  {
   "cell_type": "code",
   "execution_count": 17,
   "metadata": {},
   "outputs": [],
   "source": [
    "# Creamos las categorías\n",
    "categorias = [ \"Categoria1\", \"Categoria2\", \"Categoria3\", \"Categoria4\", \"Categoria5\", \"Categoria6\", \"Categoria7\", \"Categoria8\", \"Categoria9\", \"Categoria10\", \"Categoria11\", \"Categoria12\", \"Categoria13\", \"Categoria14\" ]"
   ]
  },
  {
   "cell_type": "code",
   "execution_count": 18,
   "metadata": {},
   "outputs": [
    {
     "data": {
      "text/plain": [
       "0        Categoria7\n",
       "1       Categoria10\n",
       "2        Categoria4\n",
       "3       Categoria14\n",
       "4        Categoria8\n",
       "           ...     \n",
       "9654    Categoria10\n",
       "9655    Categoria10\n",
       "9656    Categoria14\n",
       "9657    Categoria10\n",
       "9658    Categoria10\n",
       "Name: review_scores_checkin, Length: 9659, dtype: category\n",
       "Categories (14, object): ['Categoria1' < 'Categoria2' < 'Categoria3' < 'Categoria4' ... 'Categoria11' < 'Categoria12' < 'Categoria13' < 'Categoria14']"
      ]
     },
     "execution_count": 18,
     "metadata": {},
     "output_type": "execute_result"
    }
   ],
   "source": [
    "# Creamos las ctegorias en la columna numerica\n",
    "Amsterdam['review_scores_checkin'] = pd.cut ( x = Amsterdam ['review_scores_checkin'], bins = intervalos, labels = categorias )\n",
    "Amsterdam['review_scores_checkin']"
   ]
  },
  {
   "cell_type": "code",
   "execution_count": 19,
   "metadata": {},
   "outputs": [
    {
     "data": {
      "text/html": [
       "<div>\n",
       "<style scoped>\n",
       "    .dataframe tbody tr th:only-of-type {\n",
       "        vertical-align: middle;\n",
       "    }\n",
       "\n",
       "    .dataframe tbody tr th {\n",
       "        vertical-align: top;\n",
       "    }\n",
       "\n",
       "    .dataframe thead th {\n",
       "        text-align: right;\n",
       "    }\n",
       "</style>\n",
       "<table border=\"1\" class=\"dataframe\">\n",
       "  <thead>\n",
       "    <tr style=\"text-align: right;\">\n",
       "      <th></th>\n",
       "      <th>review_scores_checkin</th>\n",
       "      <th>frequency</th>\n",
       "      <th>percentage</th>\n",
       "      <th>cumulative_perc</th>\n",
       "    </tr>\n",
       "  </thead>\n",
       "  <tbody>\n",
       "    <tr>\n",
       "      <th>0</th>\n",
       "      <td>Categoria14</td>\n",
       "      <td>4098</td>\n",
       "      <td>0.424268</td>\n",
       "      <td>0.425810</td>\n",
       "    </tr>\n",
       "    <tr>\n",
       "      <th>1</th>\n",
       "      <td>Categoria10</td>\n",
       "      <td>2238</td>\n",
       "      <td>0.231701</td>\n",
       "      <td>0.658354</td>\n",
       "    </tr>\n",
       "    <tr>\n",
       "      <th>2</th>\n",
       "      <td>Categoria11</td>\n",
       "      <td>503</td>\n",
       "      <td>0.052076</td>\n",
       "      <td>0.710619</td>\n",
       "    </tr>\n",
       "    <tr>\n",
       "      <th>3</th>\n",
       "      <td>Categoria12</td>\n",
       "      <td>493</td>\n",
       "      <td>0.051040</td>\n",
       "      <td>0.761845</td>\n",
       "    </tr>\n",
       "    <tr>\n",
       "      <th>4</th>\n",
       "      <td>Categoria13</td>\n",
       "      <td>436</td>\n",
       "      <td>0.045139</td>\n",
       "      <td>0.807149</td>\n",
       "    </tr>\n",
       "    <tr>\n",
       "      <th>5</th>\n",
       "      <td>Categoria9</td>\n",
       "      <td>404</td>\n",
       "      <td>0.041826</td>\n",
       "      <td>0.849127</td>\n",
       "    </tr>\n",
       "    <tr>\n",
       "      <th>6</th>\n",
       "      <td>Categoria7</td>\n",
       "      <td>351</td>\n",
       "      <td>0.036339</td>\n",
       "      <td>0.885599</td>\n",
       "    </tr>\n",
       "    <tr>\n",
       "      <th>7</th>\n",
       "      <td>Categoria8</td>\n",
       "      <td>263</td>\n",
       "      <td>0.027228</td>\n",
       "      <td>0.912926</td>\n",
       "    </tr>\n",
       "    <tr>\n",
       "      <th>8</th>\n",
       "      <td>Categoria5</td>\n",
       "      <td>222</td>\n",
       "      <td>0.022984</td>\n",
       "      <td>0.935993</td>\n",
       "    </tr>\n",
       "    <tr>\n",
       "      <th>9</th>\n",
       "      <td>Categoria3</td>\n",
       "      <td>188</td>\n",
       "      <td>0.019464</td>\n",
       "      <td>0.955528</td>\n",
       "    </tr>\n",
       "    <tr>\n",
       "      <th>10</th>\n",
       "      <td>Categoria6</td>\n",
       "      <td>144</td>\n",
       "      <td>0.014908</td>\n",
       "      <td>0.970490</td>\n",
       "    </tr>\n",
       "    <tr>\n",
       "      <th>11</th>\n",
       "      <td>Categoria4</td>\n",
       "      <td>112</td>\n",
       "      <td>0.011595</td>\n",
       "      <td>0.982128</td>\n",
       "    </tr>\n",
       "    <tr>\n",
       "      <th>12</th>\n",
       "      <td>Categoria1</td>\n",
       "      <td>96</td>\n",
       "      <td>0.009939</td>\n",
       "      <td>0.992103</td>\n",
       "    </tr>\n",
       "    <tr>\n",
       "      <th>13</th>\n",
       "      <td>Categoria2</td>\n",
       "      <td>76</td>\n",
       "      <td>0.007868</td>\n",
       "      <td>1.000000</td>\n",
       "    </tr>\n",
       "  </tbody>\n",
       "</table>\n",
       "</div>"
      ],
      "text/plain": [
       "   review_scores_checkin  frequency  percentage  cumulative_perc\n",
       "0            Categoria14       4098    0.424268         0.425810\n",
       "1            Categoria10       2238    0.231701         0.658354\n",
       "2            Categoria11        503    0.052076         0.710619\n",
       "3            Categoria12        493    0.051040         0.761845\n",
       "4            Categoria13        436    0.045139         0.807149\n",
       "5             Categoria9        404    0.041826         0.849127\n",
       "6             Categoria7        351    0.036339         0.885599\n",
       "7             Categoria8        263    0.027228         0.912926\n",
       "8             Categoria5        222    0.022984         0.935993\n",
       "9             Categoria3        188    0.019464         0.955528\n",
       "10            Categoria6        144    0.014908         0.970490\n",
       "11            Categoria4        112    0.011595         0.982128\n",
       "12            Categoria1         96    0.009939         0.992103\n",
       "13            Categoria2         76    0.007868         1.000000"
      ]
     },
     "execution_count": 19,
     "metadata": {},
     "output_type": "execute_result"
    }
   ],
   "source": [
    "table1 = freq_tbl(Amsterdam['review_scores_checkin'])\n",
    "table1"
   ]
  },
  {
   "cell_type": "code",
   "execution_count": 20,
   "metadata": {},
   "outputs": [
    {
     "data": {
      "text/html": [
       "<div>\n",
       "<style scoped>\n",
       "    .dataframe tbody tr th:only-of-type {\n",
       "        vertical-align: middle;\n",
       "    }\n",
       "\n",
       "    .dataframe tbody tr th {\n",
       "        vertical-align: top;\n",
       "    }\n",
       "\n",
       "    .dataframe thead th {\n",
       "        text-align: right;\n",
       "    }\n",
       "</style>\n",
       "<table border=\"1\" class=\"dataframe\">\n",
       "  <thead>\n",
       "    <tr style=\"text-align: right;\">\n",
       "      <th></th>\n",
       "      <th>review_scores_checkin</th>\n",
       "      <th>frequency</th>\n",
       "    </tr>\n",
       "  </thead>\n",
       "  <tbody>\n",
       "    <tr>\n",
       "      <th>0</th>\n",
       "      <td>Categoria14</td>\n",
       "      <td>4098</td>\n",
       "    </tr>\n",
       "    <tr>\n",
       "      <th>1</th>\n",
       "      <td>Categoria10</td>\n",
       "      <td>2238</td>\n",
       "    </tr>\n",
       "    <tr>\n",
       "      <th>2</th>\n",
       "      <td>Categoria11</td>\n",
       "      <td>503</td>\n",
       "    </tr>\n",
       "    <tr>\n",
       "      <th>3</th>\n",
       "      <td>Categoria12</td>\n",
       "      <td>493</td>\n",
       "    </tr>\n",
       "    <tr>\n",
       "      <th>4</th>\n",
       "      <td>Categoria13</td>\n",
       "      <td>436</td>\n",
       "    </tr>\n",
       "    <tr>\n",
       "      <th>5</th>\n",
       "      <td>Categoria9</td>\n",
       "      <td>404</td>\n",
       "    </tr>\n",
       "    <tr>\n",
       "      <th>6</th>\n",
       "      <td>Categoria7</td>\n",
       "      <td>351</td>\n",
       "    </tr>\n",
       "    <tr>\n",
       "      <th>7</th>\n",
       "      <td>Categoria8</td>\n",
       "      <td>263</td>\n",
       "    </tr>\n",
       "    <tr>\n",
       "      <th>8</th>\n",
       "      <td>Categoria5</td>\n",
       "      <td>222</td>\n",
       "    </tr>\n",
       "    <tr>\n",
       "      <th>9</th>\n",
       "      <td>Categoria3</td>\n",
       "      <td>188</td>\n",
       "    </tr>\n",
       "    <tr>\n",
       "      <th>10</th>\n",
       "      <td>Categoria6</td>\n",
       "      <td>144</td>\n",
       "    </tr>\n",
       "    <tr>\n",
       "      <th>11</th>\n",
       "      <td>Categoria4</td>\n",
       "      <td>112</td>\n",
       "    </tr>\n",
       "    <tr>\n",
       "      <th>12</th>\n",
       "      <td>Categoria1</td>\n",
       "      <td>96</td>\n",
       "    </tr>\n",
       "    <tr>\n",
       "      <th>13</th>\n",
       "      <td>Categoria2</td>\n",
       "      <td>76</td>\n",
       "    </tr>\n",
       "  </tbody>\n",
       "</table>\n",
       "</div>"
      ],
      "text/plain": [
       "   review_scores_checkin  frequency\n",
       "0            Categoria14       4098\n",
       "1            Categoria10       2238\n",
       "2            Categoria11        503\n",
       "3            Categoria12        493\n",
       "4            Categoria13        436\n",
       "5             Categoria9        404\n",
       "6             Categoria7        351\n",
       "7             Categoria8        263\n",
       "8             Categoria5        222\n",
       "9             Categoria3        188\n",
       "10            Categoria6        144\n",
       "11            Categoria4        112\n",
       "12            Categoria1         96\n",
       "13            Categoria2         76"
      ]
     },
     "execution_count": 20,
     "metadata": {},
     "output_type": "execute_result"
    }
   ],
   "source": [
    "# Elimino las columnas \"porcentage\" y \"cumulative_perc\" para trabajar con las frecuencias\n",
    "\n",
    "table2 = table1.drop(['percentage', 'cumulative_perc'], axis=1)\n",
    "table2"
   ]
  },
  {
   "cell_type": "code",
   "execution_count": 21,
   "metadata": {},
   "outputs": [
    {
     "data": {
      "text/html": [
       "<div>\n",
       "<style scoped>\n",
       "    .dataframe tbody tr th:only-of-type {\n",
       "        vertical-align: middle;\n",
       "    }\n",
       "\n",
       "    .dataframe tbody tr th {\n",
       "        vertical-align: top;\n",
       "    }\n",
       "\n",
       "    .dataframe thead th {\n",
       "        text-align: right;\n",
       "    }\n",
       "</style>\n",
       "<table border=\"1\" class=\"dataframe\">\n",
       "  <thead>\n",
       "    <tr style=\"text-align: right;\">\n",
       "      <th></th>\n",
       "      <th>frequency</th>\n",
       "    </tr>\n",
       "    <tr>\n",
       "      <th>review_scores_checkin</th>\n",
       "      <th></th>\n",
       "    </tr>\n",
       "  </thead>\n",
       "  <tbody>\n",
       "    <tr>\n",
       "      <th>Categoria14</th>\n",
       "      <td>4098</td>\n",
       "    </tr>\n",
       "    <tr>\n",
       "      <th>Categoria10</th>\n",
       "      <td>2238</td>\n",
       "    </tr>\n",
       "    <tr>\n",
       "      <th>Categoria11</th>\n",
       "      <td>503</td>\n",
       "    </tr>\n",
       "    <tr>\n",
       "      <th>Categoria12</th>\n",
       "      <td>493</td>\n",
       "    </tr>\n",
       "    <tr>\n",
       "      <th>Categoria13</th>\n",
       "      <td>436</td>\n",
       "    </tr>\n",
       "    <tr>\n",
       "      <th>Categoria9</th>\n",
       "      <td>404</td>\n",
       "    </tr>\n",
       "    <tr>\n",
       "      <th>Categoria7</th>\n",
       "      <td>351</td>\n",
       "    </tr>\n",
       "    <tr>\n",
       "      <th>Categoria8</th>\n",
       "      <td>263</td>\n",
       "    </tr>\n",
       "    <tr>\n",
       "      <th>Categoria5</th>\n",
       "      <td>222</td>\n",
       "    </tr>\n",
       "    <tr>\n",
       "      <th>Categoria3</th>\n",
       "      <td>188</td>\n",
       "    </tr>\n",
       "    <tr>\n",
       "      <th>Categoria6</th>\n",
       "      <td>144</td>\n",
       "    </tr>\n",
       "    <tr>\n",
       "      <th>Categoria4</th>\n",
       "      <td>112</td>\n",
       "    </tr>\n",
       "    <tr>\n",
       "      <th>Categoria1</th>\n",
       "      <td>96</td>\n",
       "    </tr>\n",
       "    <tr>\n",
       "      <th>Categoria2</th>\n",
       "      <td>76</td>\n",
       "    </tr>\n",
       "  </tbody>\n",
       "</table>\n",
       "</div>"
      ],
      "text/plain": [
       "                       frequency\n",
       "review_scores_checkin           \n",
       "Categoria14                 4098\n",
       "Categoria10                 2238\n",
       "Categoria11                  503\n",
       "Categoria12                  493\n",
       "Categoria13                  436\n",
       "Categoria9                   404\n",
       "Categoria7                   351\n",
       "Categoria8                   263\n",
       "Categoria5                   222\n",
       "Categoria3                   188\n",
       "Categoria6                   144\n",
       "Categoria4                   112\n",
       "Categoria1                    96\n",
       "Categoria2                    76"
      ]
     },
     "execution_count": 21,
     "metadata": {},
     "output_type": "execute_result"
    }
   ],
   "source": [
    "# Ajusto el indice de mi data frame\n",
    "\n",
    "Filtro_index = table2.set_index('review_scores_checkin')\n",
    "Filtro_index"
   ]
  },
  {
   "cell_type": "code",
   "execution_count": 22,
   "metadata": {},
   "outputs": [
    {
     "data": {
      "text/plain": [
       "Text(0, 0.5, 'Frecuencia')"
      ]
     },
     "execution_count": 22,
     "metadata": {},
     "output_type": "execute_result"
    },
    {
     "data": {
      "image/png": "[encoded data removed]",
      "text/plain": [
       "<Figure size 1000x400 with 1 Axes>"
      ]
     },
     "metadata": {},
     "output_type": "display_data"
    }
   ],
   "source": [
    "# Realizamos gráfico de barras del dataframe filtrado\n",
    "\n",
    "Filtro_index.plot( kind = 'bar', width = 0.8, figsize = (10,4), color = \"blue\" )\n",
    "plt.title('Puntuación promedio de la experiencia del huésped al registrarse')\n",
    "plt.xlabel('Tipo de categoria')\n",
    "plt.ylabel('Frecuencia')"
   ]
  }
 ],
 "metadata": {
  "kernelspec": {
   "display_name": "Python 3",
   "language": "python",
   "name": "python3"
  },
  "language_info": {
   "codemirror_mode": {
    "name": "ipython",
    "version": 3
   },
   "file_extension": ".py",
   "mimetype": "text/x-python",
   "name": "python",
   "nbconvert_exporter": "python",
   "pygments_lexer": "ipython3",
   "version": "3.13.1"
  }
 },
 "nbformat": 4,
 "nbformat_minor": 2
}
